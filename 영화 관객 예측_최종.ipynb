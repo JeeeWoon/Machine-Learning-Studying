{
 "cells": [
  {
   "cell_type": "markdown",
   "metadata": {},
   "source": [
    "# Setting"
   ]
  },
  {
   "cell_type": "code",
   "execution_count": 1,
   "metadata": {},
   "outputs": [],
   "source": [
    "import pandas as pd\n",
    "import numpy as np\n",
    "import seaborn as sns\n",
    "import matplotlib.pyplot as plt\n",
    "plt.rc('font', family = 'Malgun Gothic')\n",
    "plt.rcParams['axes.unicode_minus'] = False"
   ]
  },
  {
   "cell_type": "code",
   "execution_count": 2,
   "metadata": {},
   "outputs": [],
   "source": [
    "train = pd.read_csv('train_평점추가.csv')\n",
    "test = pd.read_csv('test_평점추가.csv')\n",
    "submission = pd.read_csv('submission.csv')"
   ]
  },
  {
   "cell_type": "code",
   "execution_count": 3,
   "metadata": {},
   "outputs": [],
   "source": [
    "train = train.replace(0, train.mean())\n",
    "test = test.replace(0, test.mean())"
   ]
  },
  {
   "cell_type": "code",
   "execution_count": 4,
   "metadata": {},
   "outputs": [
    {
     "name": "stdout",
     "output_type": "stream",
     "text": [
      "<class 'pandas.core.frame.DataFrame'>\n",
      "RangeIndex: 600 entries, 0 to 599\n",
      "Data columns (total 14 columns):\n",
      " #   Column          Non-Null Count  Dtype  \n",
      "---  ------          --------------  -----  \n",
      " 0   Unnamed: 0      600 non-null    float64\n",
      " 1   title           600 non-null    object \n",
      " 2   distributor     600 non-null    object \n",
      " 3   genre           600 non-null    object \n",
      " 4   release_time    600 non-null    object \n",
      " 5   time            600 non-null    int64  \n",
      " 6   screening_rat   600 non-null    object \n",
      " 7   director        600 non-null    object \n",
      " 8   dir_prev_bfnum  600 non-null    float64\n",
      " 9   dir_prev_num    600 non-null    float64\n",
      " 10  num_staff       600 non-null    float64\n",
      " 11  num_actor       600 non-null    float64\n",
      " 12  box_off_num     600 non-null    int64  \n",
      " 13  star_score      600 non-null    object \n",
      "dtypes: float64(5), int64(2), object(7)\n",
      "memory usage: 65.8+ KB\n"
     ]
    }
   ],
   "source": [
    "train.info()"
   ]
  },
  {
   "cell_type": "code",
   "execution_count": 5,
   "metadata": {},
   "outputs": [
    {
     "data": {
      "text/html": [
       "<div>\n",
       "<style scoped>\n",
       "    .dataframe tbody tr th:only-of-type {\n",
       "        vertical-align: middle;\n",
       "    }\n",
       "\n",
       "    .dataframe tbody tr th {\n",
       "        vertical-align: top;\n",
       "    }\n",
       "\n",
       "    .dataframe thead th {\n",
       "        text-align: right;\n",
       "    }\n",
       "</style>\n",
       "<table border=\"1\" class=\"dataframe\">\n",
       "  <thead>\n",
       "    <tr style=\"text-align: right;\">\n",
       "      <th></th>\n",
       "      <th>Unnamed: 0</th>\n",
       "      <th>title</th>\n",
       "      <th>distributor</th>\n",
       "      <th>genre</th>\n",
       "      <th>release_time</th>\n",
       "      <th>time</th>\n",
       "      <th>screening_rat</th>\n",
       "      <th>director</th>\n",
       "      <th>dir_prev_bfnum</th>\n",
       "      <th>dir_prev_num</th>\n",
       "      <th>num_staff</th>\n",
       "      <th>num_actor</th>\n",
       "      <th>box_off_num</th>\n",
       "      <th>star_score</th>\n",
       "    </tr>\n",
       "  </thead>\n",
       "  <tbody>\n",
       "    <tr>\n",
       "      <th>0</th>\n",
       "      <td>299.5</td>\n",
       "      <td>개들의 전쟁</td>\n",
       "      <td>롯데엔터테인먼트</td>\n",
       "      <td>액션</td>\n",
       "      <td>2012-11-22</td>\n",
       "      <td>96</td>\n",
       "      <td>청소년 관람불가</td>\n",
       "      <td>조병옥</td>\n",
       "      <td>4.726993e+05</td>\n",
       "      <td>0.876667</td>\n",
       "      <td>91.0</td>\n",
       "      <td>2.0</td>\n",
       "      <td>23398</td>\n",
       "      <td>7.3</td>\n",
       "    </tr>\n",
       "    <tr>\n",
       "      <th>1</th>\n",
       "      <td>1.0</td>\n",
       "      <td>내부자들</td>\n",
       "      <td>(주)쇼박스</td>\n",
       "      <td>느와르</td>\n",
       "      <td>2015-11-19</td>\n",
       "      <td>130</td>\n",
       "      <td>청소년 관람불가</td>\n",
       "      <td>우민호</td>\n",
       "      <td>1.161602e+06</td>\n",
       "      <td>2.000000</td>\n",
       "      <td>387.0</td>\n",
       "      <td>3.0</td>\n",
       "      <td>7072501</td>\n",
       "      <td>9.0</td>\n",
       "    </tr>\n",
       "    <tr>\n",
       "      <th>2</th>\n",
       "      <td>2.0</td>\n",
       "      <td>은밀하게 위대하게</td>\n",
       "      <td>(주)쇼박스</td>\n",
       "      <td>액션</td>\n",
       "      <td>2013-06-05</td>\n",
       "      <td>123</td>\n",
       "      <td>15세 관람가</td>\n",
       "      <td>장철수</td>\n",
       "      <td>2.207752e+05</td>\n",
       "      <td>4.000000</td>\n",
       "      <td>343.0</td>\n",
       "      <td>4.0</td>\n",
       "      <td>6959083</td>\n",
       "      <td>7.12</td>\n",
       "    </tr>\n",
       "    <tr>\n",
       "      <th>3</th>\n",
       "      <td>3.0</td>\n",
       "      <td>나는 공무원이다</td>\n",
       "      <td>(주)NEW</td>\n",
       "      <td>코미디</td>\n",
       "      <td>2012-07-12</td>\n",
       "      <td>101</td>\n",
       "      <td>전체 관람가</td>\n",
       "      <td>구자홍</td>\n",
       "      <td>2.389400e+04</td>\n",
       "      <td>2.000000</td>\n",
       "      <td>20.0</td>\n",
       "      <td>6.0</td>\n",
       "      <td>217866</td>\n",
       "      <td>6.13</td>\n",
       "    </tr>\n",
       "    <tr>\n",
       "      <th>4</th>\n",
       "      <td>4.0</td>\n",
       "      <td>불량남녀</td>\n",
       "      <td>쇼박스(주)미디어플렉스</td>\n",
       "      <td>코미디</td>\n",
       "      <td>2010-11-04</td>\n",
       "      <td>108</td>\n",
       "      <td>15세 관람가</td>\n",
       "      <td>신근호</td>\n",
       "      <td>1.000000e+00</td>\n",
       "      <td>1.000000</td>\n",
       "      <td>251.0</td>\n",
       "      <td>2.0</td>\n",
       "      <td>483387</td>\n",
       "      <td>8.16</td>\n",
       "    </tr>\n",
       "  </tbody>\n",
       "</table>\n",
       "</div>"
      ],
      "text/plain": [
       "   Unnamed: 0      title   distributor genre release_time  time screening_rat  \\\n",
       "0       299.5     개들의 전쟁      롯데엔터테인먼트    액션   2012-11-22    96      청소년 관람불가   \n",
       "1         1.0       내부자들        (주)쇼박스   느와르   2015-11-19   130      청소년 관람불가   \n",
       "2         2.0  은밀하게 위대하게        (주)쇼박스    액션   2013-06-05   123       15세 관람가   \n",
       "3         3.0   나는 공무원이다        (주)NEW   코미디   2012-07-12   101        전체 관람가   \n",
       "4         4.0       불량남녀  쇼박스(주)미디어플렉스   코미디   2010-11-04   108       15세 관람가   \n",
       "\n",
       "  director  dir_prev_bfnum  dir_prev_num  num_staff  num_actor  box_off_num  \\\n",
       "0      조병옥    4.726993e+05      0.876667       91.0        2.0        23398   \n",
       "1      우민호    1.161602e+06      2.000000      387.0        3.0      7072501   \n",
       "2      장철수    2.207752e+05      4.000000      343.0        4.0      6959083   \n",
       "3      구자홍    2.389400e+04      2.000000       20.0        6.0       217866   \n",
       "4      신근호    1.000000e+00      1.000000      251.0        2.0       483387   \n",
       "\n",
       "  star_score  \n",
       "0        7.3  \n",
       "1        9.0  \n",
       "2       7.12  \n",
       "3       6.13  \n",
       "4       8.16  "
      ]
     },
     "execution_count": 5,
     "metadata": {},
     "output_type": "execute_result"
    }
   ],
   "source": [
    "train.head()"
   ]
  },
  {
   "cell_type": "code",
   "execution_count": 6,
   "metadata": {},
   "outputs": [
    {
     "name": "stdout",
     "output_type": "stream",
     "text": [
      "(600, 14)\n",
      "(243, 13)\n",
      "(243, 2)\n"
     ]
    }
   ],
   "source": [
    "print(train.shape)\n",
    "print(test.shape)  # train set에 box_off_num(관객수)만 빠짐 \n",
    "print(submission.shape)"
   ]
  },
  {
   "cell_type": "code",
   "execution_count": 7,
   "metadata": {},
   "outputs": [],
   "source": [
    "del train['Unnamed: 0']\n",
    "del test['Unnamed: 0']"
   ]
  },
  {
   "cell_type": "code",
   "execution_count": 8,
   "metadata": {},
   "outputs": [],
   "source": [
    "train=train.replace('평점없음', 0)\n",
    "test=test.replace('평점없음', 0)"
   ]
  },
  {
   "cell_type": "code",
   "execution_count": 9,
   "metadata": {},
   "outputs": [],
   "source": [
    "train['star_score']=train['star_score'].astype(float)\n",
    "test['star_score']=test['star_score'].astype(float)"
   ]
  },
  {
   "cell_type": "code",
   "execution_count": 10,
   "metadata": {},
   "outputs": [
    {
     "name": "stdout",
     "output_type": "stream",
     "text": [
      "<class 'pandas.core.frame.DataFrame'>\n",
      "RangeIndex: 600 entries, 0 to 599\n",
      "Data columns (total 13 columns):\n",
      " #   Column          Non-Null Count  Dtype  \n",
      "---  ------          --------------  -----  \n",
      " 0   title           600 non-null    object \n",
      " 1   distributor     600 non-null    object \n",
      " 2   genre           600 non-null    object \n",
      " 3   release_time    600 non-null    object \n",
      " 4   time            600 non-null    int64  \n",
      " 5   screening_rat   600 non-null    object \n",
      " 6   director        600 non-null    object \n",
      " 7   dir_prev_bfnum  600 non-null    float64\n",
      " 8   dir_prev_num    600 non-null    float64\n",
      " 9   num_staff       600 non-null    float64\n",
      " 10  num_actor       600 non-null    float64\n",
      " 11  box_off_num     600 non-null    int64  \n",
      " 12  star_score      600 non-null    float64\n",
      "dtypes: float64(5), int64(2), object(6)\n",
      "memory usage: 61.1+ KB\n"
     ]
    }
   ],
   "source": [
    "train.info()"
   ]
  },
  {
   "cell_type": "code",
   "execution_count": 11,
   "metadata": {},
   "outputs": [
    {
     "data": {
      "text/html": [
       "<div>\n",
       "<style scoped>\n",
       "    .dataframe tbody tr th:only-of-type {\n",
       "        vertical-align: middle;\n",
       "    }\n",
       "\n",
       "    .dataframe tbody tr th {\n",
       "        vertical-align: top;\n",
       "    }\n",
       "\n",
       "    .dataframe thead th {\n",
       "        text-align: right;\n",
       "    }\n",
       "</style>\n",
       "<table border=\"1\" class=\"dataframe\">\n",
       "  <thead>\n",
       "    <tr style=\"text-align: right;\">\n",
       "      <th></th>\n",
       "      <th>title</th>\n",
       "      <th>distributor</th>\n",
       "      <th>genre</th>\n",
       "      <th>release_time</th>\n",
       "      <th>time</th>\n",
       "      <th>screening_rat</th>\n",
       "      <th>director</th>\n",
       "      <th>dir_prev_bfnum</th>\n",
       "      <th>dir_prev_num</th>\n",
       "      <th>num_staff</th>\n",
       "      <th>num_actor</th>\n",
       "      <th>box_off_num</th>\n",
       "      <th>star_score</th>\n",
       "    </tr>\n",
       "  </thead>\n",
       "  <tbody>\n",
       "    <tr>\n",
       "      <th>0</th>\n",
       "      <td>개들의 전쟁</td>\n",
       "      <td>롯데엔터테인먼트</td>\n",
       "      <td>액션</td>\n",
       "      <td>2012-11-22</td>\n",
       "      <td>96</td>\n",
       "      <td>청소년 관람불가</td>\n",
       "      <td>조병옥</td>\n",
       "      <td>4.726993e+05</td>\n",
       "      <td>0.876667</td>\n",
       "      <td>91.0</td>\n",
       "      <td>2.0</td>\n",
       "      <td>23398</td>\n",
       "      <td>7.30</td>\n",
       "    </tr>\n",
       "    <tr>\n",
       "      <th>1</th>\n",
       "      <td>내부자들</td>\n",
       "      <td>(주)쇼박스</td>\n",
       "      <td>느와르</td>\n",
       "      <td>2015-11-19</td>\n",
       "      <td>130</td>\n",
       "      <td>청소년 관람불가</td>\n",
       "      <td>우민호</td>\n",
       "      <td>1.161602e+06</td>\n",
       "      <td>2.000000</td>\n",
       "      <td>387.0</td>\n",
       "      <td>3.0</td>\n",
       "      <td>7072501</td>\n",
       "      <td>9.00</td>\n",
       "    </tr>\n",
       "    <tr>\n",
       "      <th>2</th>\n",
       "      <td>은밀하게 위대하게</td>\n",
       "      <td>(주)쇼박스</td>\n",
       "      <td>액션</td>\n",
       "      <td>2013-06-05</td>\n",
       "      <td>123</td>\n",
       "      <td>15세 관람가</td>\n",
       "      <td>장철수</td>\n",
       "      <td>2.207752e+05</td>\n",
       "      <td>4.000000</td>\n",
       "      <td>343.0</td>\n",
       "      <td>4.0</td>\n",
       "      <td>6959083</td>\n",
       "      <td>7.12</td>\n",
       "    </tr>\n",
       "    <tr>\n",
       "      <th>3</th>\n",
       "      <td>나는 공무원이다</td>\n",
       "      <td>(주)NEW</td>\n",
       "      <td>코미디</td>\n",
       "      <td>2012-07-12</td>\n",
       "      <td>101</td>\n",
       "      <td>전체 관람가</td>\n",
       "      <td>구자홍</td>\n",
       "      <td>2.389400e+04</td>\n",
       "      <td>2.000000</td>\n",
       "      <td>20.0</td>\n",
       "      <td>6.0</td>\n",
       "      <td>217866</td>\n",
       "      <td>6.13</td>\n",
       "    </tr>\n",
       "    <tr>\n",
       "      <th>4</th>\n",
       "      <td>불량남녀</td>\n",
       "      <td>쇼박스(주)미디어플렉스</td>\n",
       "      <td>코미디</td>\n",
       "      <td>2010-11-04</td>\n",
       "      <td>108</td>\n",
       "      <td>15세 관람가</td>\n",
       "      <td>신근호</td>\n",
       "      <td>1.000000e+00</td>\n",
       "      <td>1.000000</td>\n",
       "      <td>251.0</td>\n",
       "      <td>2.0</td>\n",
       "      <td>483387</td>\n",
       "      <td>8.16</td>\n",
       "    </tr>\n",
       "  </tbody>\n",
       "</table>\n",
       "</div>"
      ],
      "text/plain": [
       "       title   distributor genre release_time  time screening_rat director  \\\n",
       "0     개들의 전쟁      롯데엔터테인먼트    액션   2012-11-22    96      청소년 관람불가      조병옥   \n",
       "1       내부자들        (주)쇼박스   느와르   2015-11-19   130      청소년 관람불가      우민호   \n",
       "2  은밀하게 위대하게        (주)쇼박스    액션   2013-06-05   123       15세 관람가      장철수   \n",
       "3   나는 공무원이다        (주)NEW   코미디   2012-07-12   101        전체 관람가      구자홍   \n",
       "4       불량남녀  쇼박스(주)미디어플렉스   코미디   2010-11-04   108       15세 관람가      신근호   \n",
       "\n",
       "   dir_prev_bfnum  dir_prev_num  num_staff  num_actor  box_off_num  star_score  \n",
       "0    4.726993e+05      0.876667       91.0        2.0        23398        7.30  \n",
       "1    1.161602e+06      2.000000      387.0        3.0      7072501        9.00  \n",
       "2    2.207752e+05      4.000000      343.0        4.0      6959083        7.12  \n",
       "3    2.389400e+04      2.000000       20.0        6.0       217866        6.13  \n",
       "4    1.000000e+00      1.000000      251.0        2.0       483387        8.16  "
      ]
     },
     "execution_count": 11,
     "metadata": {},
     "output_type": "execute_result"
    }
   ],
   "source": [
    "train.head()"
   ]
  },
  {
   "cell_type": "code",
   "execution_count": 12,
   "metadata": {},
   "outputs": [
    {
     "data": {
      "text/plain": [
       "<matplotlib.axes._subplots.AxesSubplot at 0x1e68f93d8e0>"
      ]
     },
     "execution_count": 12,
     "metadata": {},
     "output_type": "execute_result"
    },
    {
     "data": {
      "image/png": "[encoded data removed]",
      "text/plain": [
       "<Figure size 432x288 with 2 Axes>"
      ]
     },
     "metadata": {
      "needs_background": "light"
     },
     "output_type": "display_data"
    }
   ],
   "source": [
    "sns.heatmap(train.corr(), annot = True)"
   ]
  },
  {
   "cell_type": "markdown",
   "metadata": {},
   "source": [
    "# Feature Engineering"
   ]
  },
  {
   "cell_type": "code",
   "execution_count": 13,
   "metadata": {},
   "outputs": [
    {
     "data": {
      "text/html": [
       "<div>\n",
       "<style scoped>\n",
       "    .dataframe tbody tr th:only-of-type {\n",
       "        vertical-align: middle;\n",
       "    }\n",
       "\n",
       "    .dataframe tbody tr th {\n",
       "        vertical-align: top;\n",
       "    }\n",
       "\n",
       "    .dataframe thead th {\n",
       "        text-align: right;\n",
       "    }\n",
       "</style>\n",
       "<table border=\"1\" class=\"dataframe\">\n",
       "  <thead>\n",
       "    <tr style=\"text-align: right;\">\n",
       "      <th></th>\n",
       "      <th>title</th>\n",
       "      <th>distributor</th>\n",
       "      <th>genre</th>\n",
       "      <th>release_time</th>\n",
       "      <th>time</th>\n",
       "      <th>screening_rat</th>\n",
       "      <th>dir_prev_bfnum</th>\n",
       "      <th>dir_prev_num</th>\n",
       "      <th>num_staff</th>\n",
       "      <th>num_actor</th>\n",
       "      <th>box_off_num</th>\n",
       "      <th>star_score</th>\n",
       "    </tr>\n",
       "  </thead>\n",
       "  <tbody>\n",
       "    <tr>\n",
       "      <th>0</th>\n",
       "      <td>개들의 전쟁</td>\n",
       "      <td>롯데엔터테인먼트</td>\n",
       "      <td>액션</td>\n",
       "      <td>2012-11-22</td>\n",
       "      <td>96</td>\n",
       "      <td>청소년 관람불가</td>\n",
       "      <td>4.726993e+05</td>\n",
       "      <td>0.876667</td>\n",
       "      <td>91.0</td>\n",
       "      <td>2.0</td>\n",
       "      <td>23398</td>\n",
       "      <td>7.30</td>\n",
       "    </tr>\n",
       "    <tr>\n",
       "      <th>1</th>\n",
       "      <td>내부자들</td>\n",
       "      <td>(주)쇼박스</td>\n",
       "      <td>느와르</td>\n",
       "      <td>2015-11-19</td>\n",
       "      <td>130</td>\n",
       "      <td>청소년 관람불가</td>\n",
       "      <td>1.161602e+06</td>\n",
       "      <td>2.000000</td>\n",
       "      <td>387.0</td>\n",
       "      <td>3.0</td>\n",
       "      <td>7072501</td>\n",
       "      <td>9.00</td>\n",
       "    </tr>\n",
       "    <tr>\n",
       "      <th>2</th>\n",
       "      <td>은밀하게 위대하게</td>\n",
       "      <td>(주)쇼박스</td>\n",
       "      <td>액션</td>\n",
       "      <td>2013-06-05</td>\n",
       "      <td>123</td>\n",
       "      <td>15세 관람가</td>\n",
       "      <td>2.207752e+05</td>\n",
       "      <td>4.000000</td>\n",
       "      <td>343.0</td>\n",
       "      <td>4.0</td>\n",
       "      <td>6959083</td>\n",
       "      <td>7.12</td>\n",
       "    </tr>\n",
       "  </tbody>\n",
       "</table>\n",
       "</div>"
      ],
      "text/plain": [
       "       title distributor genre release_time  time screening_rat  \\\n",
       "0     개들의 전쟁    롯데엔터테인먼트    액션   2012-11-22    96      청소년 관람불가   \n",
       "1       내부자들      (주)쇼박스   느와르   2015-11-19   130      청소년 관람불가   \n",
       "2  은밀하게 위대하게      (주)쇼박스    액션   2013-06-05   123       15세 관람가   \n",
       "\n",
       "   dir_prev_bfnum  dir_prev_num  num_staff  num_actor  box_off_num  star_score  \n",
       "0    4.726993e+05      0.876667       91.0        2.0        23398        7.30  \n",
       "1    1.161602e+06      2.000000      387.0        3.0      7072501        9.00  \n",
       "2    2.207752e+05      4.000000      343.0        4.0      6959083        7.12  "
      ]
     },
     "execution_count": 13,
     "metadata": {},
     "output_type": "execute_result"
    }
   ],
   "source": [
    "# director 변수 제거\n",
    "train = train.drop('director', axis=1)\n",
    "test = test.drop('director', axis=1)\n",
    "train.head(3)"
   ]
  },
  {
   "cell_type": "code",
   "execution_count": 14,
   "metadata": {},
   "outputs": [
    {
     "data": {
      "text/plain": [
       "array(['액션', '느와르', '코미디', '다큐멘터리', '뮤지컬', '드라마', '멜로/로맨스', '공포', '서스펜스',\n",
       "       '애니메이션', '미스터리', 'SF'], dtype=object)"
      ]
     },
     "execution_count": 14,
     "metadata": {},
     "output_type": "execute_result"
    }
   ],
   "source": [
    "#장르 라벨링\n",
    "from sklearn import preprocessing\n",
    "train['genre'].unique()"
   ]
  },
  {
   "cell_type": "code",
   "execution_count": 15,
   "metadata": {},
   "outputs": [
    {
     "data": {
      "text/plain": [
       "0      10\n",
       "1       2\n",
       "2      10\n",
       "3      11\n",
       "4      11\n",
       "       ..\n",
       "595     4\n",
       "596     4\n",
       "597     1\n",
       "598     2\n",
       "599    10\n",
       "Name: genre, Length: 600, dtype: int32"
      ]
     },
     "execution_count": 15,
     "metadata": {},
     "output_type": "execute_result"
    }
   ],
   "source": [
    "from sklearn import preprocessing\n",
    "le = preprocessing.LabelEncoder()\n",
    "train['genre'] = le.fit_transform(train['genre'])\n",
    "train['genre']"
   ]
  },
  {
   "cell_type": "code",
   "execution_count": 16,
   "metadata": {},
   "outputs": [
    {
     "data": {
      "text/plain": [
       "0       2\n",
       "1       5\n",
       "2       4\n",
       "3      10\n",
       "4       1\n",
       "       ..\n",
       "238     4\n",
       "239     3\n",
       "240     2\n",
       "241     4\n",
       "242     5\n",
       "Name: genre, Length: 243, dtype: int32"
      ]
     },
     "execution_count": 16,
     "metadata": {},
     "output_type": "execute_result"
    }
   ],
   "source": [
    "test['genre'] = le.transform(test['genre'])\n",
    "test['genre']"
   ]
  },
  {
   "cell_type": "code",
   "execution_count": 17,
   "metadata": {
    "scrolled": false
   },
   "outputs": [
    {
     "data": {
      "text/plain": [
       "genre\n",
       "6     6.627000e+03\n",
       "3     6.717226e+04\n",
       "8     8.261100e+04\n",
       "9     1.819267e+05\n",
       "5     4.259680e+05\n",
       "7     5.275482e+05\n",
       "1     5.908325e+05\n",
       "4     6.256898e+05\n",
       "11    1.193914e+06\n",
       "0     1.788346e+06\n",
       "10    2.203974e+06\n",
       "2     2.263695e+06\n",
       "Name: box_off_num, dtype: float64"
      ]
     },
     "execution_count": 17,
     "metadata": {},
     "output_type": "execute_result"
    }
   ],
   "source": [
    "train.groupby('genre').box_off_num.mean().sort_values()"
   ]
  },
  {
   "cell_type": "code",
   "execution_count": 18,
   "metadata": {},
   "outputs": [
    {
     "name": "stdout",
     "output_type": "stream",
     "text": [
      "['SF' '공포' '느와르' '다큐멘터리' '드라마' '멜로/로맨스' '뮤지컬' '미스터리' '서스펜스' '애니메이션' '액션'\n",
      " '코미디']\n"
     ]
    }
   ],
   "source": [
    "print(le.classes_)  # 0~11까지 라벨링 (SF는 0, 코미디는 11)"
   ]
  },
  {
   "cell_type": "markdown",
   "metadata": {},
   "source": [
    "선형 계열 모델(릿지, 라쏘, 엘라스틱넷, 로지스틱회귀, SVM 등)에선 Label encoding 대신 one-hot encoding 사용"
   ]
  },
  {
   "cell_type": "code",
   "execution_count": 19,
   "metadata": {},
   "outputs": [
    {
     "data": {
      "text/html": [
       "<div>\n",
       "<style scoped>\n",
       "    .dataframe tbody tr th:only-of-type {\n",
       "        vertical-align: middle;\n",
       "    }\n",
       "\n",
       "    .dataframe tbody tr th {\n",
       "        vertical-align: top;\n",
       "    }\n",
       "\n",
       "    .dataframe thead th {\n",
       "        text-align: right;\n",
       "    }\n",
       "</style>\n",
       "<table border=\"1\" class=\"dataframe\">\n",
       "  <thead>\n",
       "    <tr style=\"text-align: right;\">\n",
       "      <th></th>\n",
       "      <th>title</th>\n",
       "      <th>distributor</th>\n",
       "      <th>genre</th>\n",
       "      <th>release_time</th>\n",
       "      <th>time</th>\n",
       "      <th>screening_rat</th>\n",
       "      <th>dir_prev_bfnum</th>\n",
       "      <th>dir_prev_num</th>\n",
       "      <th>num_staff</th>\n",
       "      <th>num_actor</th>\n",
       "      <th>box_off_num</th>\n",
       "      <th>star_score</th>\n",
       "      <th>genre_rank</th>\n",
       "    </tr>\n",
       "  </thead>\n",
       "  <tbody>\n",
       "    <tr>\n",
       "      <th>0</th>\n",
       "      <td>개들의 전쟁</td>\n",
       "      <td>롯데엔터테인먼트</td>\n",
       "      <td>10</td>\n",
       "      <td>2012-11-22</td>\n",
       "      <td>96</td>\n",
       "      <td>청소년 관람불가</td>\n",
       "      <td>4.726993e+05</td>\n",
       "      <td>0.876667</td>\n",
       "      <td>91.0</td>\n",
       "      <td>2.0</td>\n",
       "      <td>23398</td>\n",
       "      <td>7.30</td>\n",
       "      <td>11</td>\n",
       "    </tr>\n",
       "    <tr>\n",
       "      <th>1</th>\n",
       "      <td>내부자들</td>\n",
       "      <td>(주)쇼박스</td>\n",
       "      <td>2</td>\n",
       "      <td>2015-11-19</td>\n",
       "      <td>130</td>\n",
       "      <td>청소년 관람불가</td>\n",
       "      <td>1.161602e+06</td>\n",
       "      <td>2.000000</td>\n",
       "      <td>387.0</td>\n",
       "      <td>3.0</td>\n",
       "      <td>7072501</td>\n",
       "      <td>9.00</td>\n",
       "      <td>12</td>\n",
       "    </tr>\n",
       "    <tr>\n",
       "      <th>2</th>\n",
       "      <td>은밀하게 위대하게</td>\n",
       "      <td>(주)쇼박스</td>\n",
       "      <td>10</td>\n",
       "      <td>2013-06-05</td>\n",
       "      <td>123</td>\n",
       "      <td>15세 관람가</td>\n",
       "      <td>2.207752e+05</td>\n",
       "      <td>4.000000</td>\n",
       "      <td>343.0</td>\n",
       "      <td>4.0</td>\n",
       "      <td>6959083</td>\n",
       "      <td>7.12</td>\n",
       "      <td>11</td>\n",
       "    </tr>\n",
       "    <tr>\n",
       "      <th>3</th>\n",
       "      <td>나는 공무원이다</td>\n",
       "      <td>(주)NEW</td>\n",
       "      <td>11</td>\n",
       "      <td>2012-07-12</td>\n",
       "      <td>101</td>\n",
       "      <td>전체 관람가</td>\n",
       "      <td>2.389400e+04</td>\n",
       "      <td>2.000000</td>\n",
       "      <td>20.0</td>\n",
       "      <td>6.0</td>\n",
       "      <td>217866</td>\n",
       "      <td>6.13</td>\n",
       "      <td>9</td>\n",
       "    </tr>\n",
       "    <tr>\n",
       "      <th>4</th>\n",
       "      <td>불량남녀</td>\n",
       "      <td>쇼박스(주)미디어플렉스</td>\n",
       "      <td>11</td>\n",
       "      <td>2010-11-04</td>\n",
       "      <td>108</td>\n",
       "      <td>15세 관람가</td>\n",
       "      <td>1.000000e+00</td>\n",
       "      <td>1.000000</td>\n",
       "      <td>251.0</td>\n",
       "      <td>2.0</td>\n",
       "      <td>483387</td>\n",
       "      <td>8.16</td>\n",
       "      <td>9</td>\n",
       "    </tr>\n",
       "  </tbody>\n",
       "</table>\n",
       "</div>"
      ],
      "text/plain": [
       "       title   distributor  genre release_time  time screening_rat  \\\n",
       "0     개들의 전쟁      롯데엔터테인먼트     10   2012-11-22    96      청소년 관람불가   \n",
       "1       내부자들        (주)쇼박스      2   2015-11-19   130      청소년 관람불가   \n",
       "2  은밀하게 위대하게        (주)쇼박스     10   2013-06-05   123       15세 관람가   \n",
       "3   나는 공무원이다        (주)NEW     11   2012-07-12   101        전체 관람가   \n",
       "4       불량남녀  쇼박스(주)미디어플렉스     11   2010-11-04   108       15세 관람가   \n",
       "\n",
       "   dir_prev_bfnum  dir_prev_num  num_staff  num_actor  box_off_num  \\\n",
       "0    4.726993e+05      0.876667       91.0        2.0        23398   \n",
       "1    1.161602e+06      2.000000      387.0        3.0      7072501   \n",
       "2    2.207752e+05      4.000000      343.0        4.0      6959083   \n",
       "3    2.389400e+04      2.000000       20.0        6.0       217866   \n",
       "4    1.000000e+00      1.000000      251.0        2.0       483387   \n",
       "\n",
       "   star_score  genre_rank  \n",
       "0        7.30          11  \n",
       "1        9.00          12  \n",
       "2        7.12          11  \n",
       "3        6.13           9  \n",
       "4        8.16           9  "
      ]
     },
     "execution_count": 19,
     "metadata": {},
     "output_type": "execute_result"
    }
   ],
   "source": [
    "train['genre_rank'] = train.genre.map({6 : 1, 3 : 2, 8 : 3, 9 : 4, 5 : 5,\n",
    "                                      7 : 6, 1 : 7, 4 : 8, 11 : 9, 0 : 10, 10 : 11, 2 : 12})\n",
    "test['genre_rank'] = test.genre.map({6 : 1, 3 : 2, 8 : 3, 9 : 4, 5 : 5,\n",
    "                                      7 : 6, 1 : 7, 4 : 8, 11 : 9, 0 : 10, 10 : 11, 2 : 12})\n",
    "\n",
    "train.head()"
   ]
  },
  {
   "cell_type": "markdown",
   "metadata": {},
   "source": [
    "장르별 영화 관객수 평균값으로 랭크 갱신 -> 낮은 관객수 장르(뮤지컬 -> 1) 에서부터 높은 관객수 장르(느와르 -> 12)"
   ]
  },
  {
   "cell_type": "code",
   "execution_count": 20,
   "metadata": {},
   "outputs": [],
   "source": [
    "#배급사 라벨링(dist_rank)\n",
    "train['distributor'] = train.distributor.str.replace(\"(주)\",\"\")\n",
    "test['distributor'] = test.distributor.str.replace(\"(주)\",\"\")\n",
    "\n",
    "import re\n",
    "\n",
    "train['distributor'] = [re.sub(r'[^0-9a-zA-Z가-힣]', '', x) for x in train.distributor]\n",
    "test['distributor'] = [re.sub(r'[^0-9a-zA-Z가-힣]', '', x) for x in test.distributor]"
   ]
  },
  {
   "cell_type": "code",
   "execution_count": 21,
   "metadata": {},
   "outputs": [
    {
     "data": {
      "text/plain": [
       "distributor\n",
       "인피니티엔터테인먼트            2.0\n",
       "고구마공작소                8.0\n",
       "사람과사람들               42.0\n",
       "위드시네마                46.0\n",
       "나우콘텐츠                54.0\n",
       "                  ...    \n",
       "CJEM영화부문        2242510.0\n",
       "영구아트무비          2541603.0\n",
       "쇼박스미디어플렉스       2634823.0\n",
       "아이필름코퍼레이션       3117859.0\n",
       "CJEMPictures    4122337.0\n",
       "Name: box_off_num, Length: 159, dtype: float64"
      ]
     },
     "execution_count": 21,
     "metadata": {},
     "output_type": "execute_result"
    }
   ],
   "source": [
    "train.groupby('distributor').box_off_num.median().sort_values()"
   ]
  },
  {
   "cell_type": "code",
   "execution_count": 22,
   "metadata": {},
   "outputs": [
    {
     "data": {
      "text/html": [
       "<div>\n",
       "<style scoped>\n",
       "    .dataframe tbody tr th:only-of-type {\n",
       "        vertical-align: middle;\n",
       "    }\n",
       "\n",
       "    .dataframe tbody tr th {\n",
       "        vertical-align: top;\n",
       "    }\n",
       "\n",
       "    .dataframe thead th {\n",
       "        text-align: right;\n",
       "    }\n",
       "</style>\n",
       "<table border=\"1\" class=\"dataframe\">\n",
       "  <thead>\n",
       "    <tr style=\"text-align: right;\">\n",
       "      <th></th>\n",
       "      <th>distributor</th>\n",
       "      <th>dist_rank</th>\n",
       "    </tr>\n",
       "  </thead>\n",
       "  <tbody>\n",
       "    <tr>\n",
       "      <th>122</th>\n",
       "      <td>인피니티엔터테인먼트</td>\n",
       "      <td>1</td>\n",
       "    </tr>\n",
       "    <tr>\n",
       "      <th>21</th>\n",
       "      <td>고구마공작소</td>\n",
       "      <td>2</td>\n",
       "    </tr>\n",
       "    <tr>\n",
       "      <th>61</th>\n",
       "      <td>사람과사람들</td>\n",
       "      <td>3</td>\n",
       "    </tr>\n",
       "    <tr>\n",
       "      <th>109</th>\n",
       "      <td>위드시네마</td>\n",
       "      <td>4</td>\n",
       "    </tr>\n",
       "    <tr>\n",
       "      <th>25</th>\n",
       "      <td>나우콘텐츠</td>\n",
       "      <td>5</td>\n",
       "    </tr>\n",
       "    <tr>\n",
       "      <th>...</th>\n",
       "      <td>...</td>\n",
       "      <td>...</td>\n",
       "    </tr>\n",
       "    <tr>\n",
       "      <th>5</th>\n",
       "      <td>CJEM영화부문</td>\n",
       "      <td>155</td>\n",
       "    </tr>\n",
       "    <tr>\n",
       "      <th>96</th>\n",
       "      <td>영구아트무비</td>\n",
       "      <td>156</td>\n",
       "    </tr>\n",
       "    <tr>\n",
       "      <th>66</th>\n",
       "      <td>쇼박스미디어플렉스</td>\n",
       "      <td>157</td>\n",
       "    </tr>\n",
       "    <tr>\n",
       "      <th>87</th>\n",
       "      <td>아이필름코퍼레이션</td>\n",
       "      <td>158</td>\n",
       "    </tr>\n",
       "    <tr>\n",
       "      <th>4</th>\n",
       "      <td>CJEMPictures</td>\n",
       "      <td>159</td>\n",
       "    </tr>\n",
       "  </tbody>\n",
       "</table>\n",
       "<p>159 rows × 2 columns</p>\n",
       "</div>"
      ],
      "text/plain": [
       "      distributor  dist_rank\n",
       "122    인피니티엔터테인먼트          1\n",
       "21         고구마공작소          2\n",
       "61         사람과사람들          3\n",
       "109         위드시네마          4\n",
       "25          나우콘텐츠          5\n",
       "..            ...        ...\n",
       "5        CJEM영화부문        155\n",
       "96         영구아트무비        156\n",
       "66      쇼박스미디어플렉스        157\n",
       "87      아이필름코퍼레이션        158\n",
       "4    CJEMPictures        159\n",
       "\n",
       "[159 rows x 2 columns]"
      ]
     },
     "execution_count": 22,
     "metadata": {},
     "output_type": "execute_result"
    }
   ],
   "source": [
    "dist_rank = train.groupby('distributor').box_off_num.median().reset_index(name = 'dist_rank').sort_values(by = 'dist_rank')\n",
    "dist_rank['dist_rank'] = [i+1 for i in range(dist_rank.shape[0])]\n",
    "dist_rank"
   ]
  },
  {
   "cell_type": "markdown",
   "metadata": {},
   "source": [
    "배급사별 영화 관객수 중위값으로 랭크 갱신 -> 중위값 작은 것부터 1 ~ 큰거 159"
   ]
  },
  {
   "cell_type": "code",
   "execution_count": 23,
   "metadata": {},
   "outputs": [
    {
     "name": "stdout",
     "output_type": "stream",
     "text": [
      "<class 'pandas.core.frame.DataFrame'>\n",
      "Int64Index: 600 entries, 0 to 599\n",
      "Data columns (total 14 columns):\n",
      " #   Column          Non-Null Count  Dtype  \n",
      "---  ------          --------------  -----  \n",
      " 0   title           600 non-null    object \n",
      " 1   distributor     600 non-null    object \n",
      " 2   genre           600 non-null    int32  \n",
      " 3   release_time    600 non-null    object \n",
      " 4   time            600 non-null    int64  \n",
      " 5   screening_rat   600 non-null    object \n",
      " 6   dir_prev_bfnum  600 non-null    float64\n",
      " 7   dir_prev_num    600 non-null    float64\n",
      " 8   num_staff       600 non-null    float64\n",
      " 9   num_actor       600 non-null    float64\n",
      " 10  box_off_num     600 non-null    int64  \n",
      " 11  star_score      600 non-null    float64\n",
      " 12  genre_rank      600 non-null    int64  \n",
      " 13  dist_rank       600 non-null    int64  \n",
      "dtypes: float64(5), int32(1), int64(4), object(4)\n",
      "memory usage: 68.0+ KB\n"
     ]
    }
   ],
   "source": [
    "train = pd.merge(train, dist_rank, how = 'left')\n",
    "test = pd.merge(test, dist_rank, how= 'left')\n",
    "train.info()"
   ]
  },
  {
   "cell_type": "code",
   "execution_count": 24,
   "metadata": {},
   "outputs": [
    {
     "name": "stdout",
     "output_type": "stream",
     "text": [
      "<class 'pandas.core.frame.DataFrame'>\n",
      "Int64Index: 243 entries, 0 to 242\n",
      "Data columns (total 13 columns):\n",
      " #   Column          Non-Null Count  Dtype  \n",
      "---  ------          --------------  -----  \n",
      " 0   title           243 non-null    object \n",
      " 1   distributor     243 non-null    object \n",
      " 2   genre           243 non-null    int32  \n",
      " 3   release_time    243 non-null    object \n",
      " 4   time            243 non-null    int64  \n",
      " 5   screening_rat   243 non-null    object \n",
      " 6   dir_prev_bfnum  243 non-null    float64\n",
      " 7   dir_prev_num    243 non-null    float64\n",
      " 8   num_staff       243 non-null    float64\n",
      " 9   num_actor       243 non-null    float64\n",
      " 10  star_score      243 non-null    float64\n",
      " 11  genre_rank      243 non-null    int64  \n",
      " 12  dist_rank       210 non-null    float64\n",
      "dtypes: float64(6), int32(1), int64(2), object(4)\n",
      "memory usage: 25.6+ KB\n"
     ]
    }
   ],
   "source": [
    "test.info()"
   ]
  },
  {
   "cell_type": "code",
   "execution_count": 25,
   "metadata": {},
   "outputs": [],
   "source": [
    "# test dist_rank의 null값 0으로 채우기\n",
    "test.fillna(0, inplace=True)"
   ]
  },
  {
   "cell_type": "code",
   "execution_count": 26,
   "metadata": {},
   "outputs": [
    {
     "data": {
      "text/plain": [
       "array(['청소년 관람불가', '15세 관람가', '전체 관람가', '12세 관람가'], dtype=object)"
      ]
     },
     "execution_count": 26,
     "metadata": {},
     "output_type": "execute_result"
    }
   ],
   "source": [
    "# 상영등급(screening_rat) 라벨링\n",
    "train['screening_rat'].unique()"
   ]
  },
  {
   "cell_type": "code",
   "execution_count": 27,
   "metadata": {},
   "outputs": [
    {
     "data": {
      "text/plain": [
       "screening_rat\n",
       "청소년 관람불가      3008.5\n",
       "전체 관람가        8325.0\n",
       "12세 관람가      19323.0\n",
       "15세 관람가     242381.0\n",
       "Name: box_off_num, dtype: float64"
      ]
     },
     "execution_count": 27,
     "metadata": {},
     "output_type": "execute_result"
    }
   ],
   "source": [
    "train.groupby('screening_rat').box_off_num.median().sort_values()"
   ]
  },
  {
   "cell_type": "code",
   "execution_count": 28,
   "metadata": {},
   "outputs": [
    {
     "data": {
      "text/plain": [
       "screening_rat\n",
       "전체 관람가      1.351005e+05\n",
       "청소년 관람불가    3.641813e+05\n",
       "12세 관람가     8.449809e+05\n",
       "15세 관람가     1.247519e+06\n",
       "Name: box_off_num, dtype: float64"
      ]
     },
     "execution_count": 28,
     "metadata": {},
     "output_type": "execute_result"
    }
   ],
   "source": [
    "train.groupby('screening_rat').box_off_num.mean().sort_values()"
   ]
  },
  {
   "cell_type": "markdown",
   "metadata": {},
   "source": [
    "중앙값보단 평균으로 sort하는 것이 나을듯"
   ]
  },
  {
   "cell_type": "code",
   "execution_count": 29,
   "metadata": {},
   "outputs": [
    {
     "data": {
      "text/plain": [
       "0      3\n",
       "1      3\n",
       "2      1\n",
       "3      2\n",
       "4      1\n",
       "      ..\n",
       "595    3\n",
       "596    1\n",
       "597    3\n",
       "598    1\n",
       "599    1\n",
       "Name: screening_rat, Length: 600, dtype: int32"
      ]
     },
     "execution_count": 29,
     "metadata": {},
     "output_type": "execute_result"
    }
   ],
   "source": [
    "train['screening_rat'] = le.fit_transform(train['screening_rat'])\n",
    "train['screening_rat']"
   ]
  },
  {
   "cell_type": "code",
   "execution_count": 30,
   "metadata": {},
   "outputs": [
    {
     "data": {
      "text/plain": [
       "0      3\n",
       "1      0\n",
       "2      0\n",
       "3      1\n",
       "4      1\n",
       "      ..\n",
       "238    1\n",
       "239    0\n",
       "240    3\n",
       "241    3\n",
       "242    3\n",
       "Name: screening_rat, Length: 243, dtype: int32"
      ]
     },
     "execution_count": 30,
     "metadata": {},
     "output_type": "execute_result"
    }
   ],
   "source": [
    "test['screening_rat'] = le.fit_transform(test['screening_rat'])\n",
    "test['screening_rat']"
   ]
  },
  {
   "cell_type": "code",
   "execution_count": 31,
   "metadata": {},
   "outputs": [
    {
     "data": {
      "text/plain": [
       "screening_rat\n",
       "2    1.351005e+05\n",
       "3    3.641813e+05\n",
       "0    8.449809e+05\n",
       "1    1.247519e+06\n",
       "Name: box_off_num, dtype: float64"
      ]
     },
     "execution_count": 31,
     "metadata": {},
     "output_type": "execute_result"
    }
   ],
   "source": [
    "train.groupby('screening_rat').box_off_num.mean().sort_values()"
   ]
  },
  {
   "cell_type": "code",
   "execution_count": 32,
   "metadata": {},
   "outputs": [
    {
     "name": "stdout",
     "output_type": "stream",
     "text": [
      "['12세 관람가' '15세 관람가' '전체 관람가' '청소년 관람불가']\n"
     ]
    }
   ],
   "source": [
    "print(le.classes_)   #청불의 관객수 평균값이 가장 높음"
   ]
  },
  {
   "cell_type": "code",
   "execution_count": 33,
   "metadata": {},
   "outputs": [
    {
     "data": {
      "text/html": [
       "<div>\n",
       "<style scoped>\n",
       "    .dataframe tbody tr th:only-of-type {\n",
       "        vertical-align: middle;\n",
       "    }\n",
       "\n",
       "    .dataframe tbody tr th {\n",
       "        vertical-align: top;\n",
       "    }\n",
       "\n",
       "    .dataframe thead th {\n",
       "        text-align: right;\n",
       "    }\n",
       "</style>\n",
       "<table border=\"1\" class=\"dataframe\">\n",
       "  <thead>\n",
       "    <tr style=\"text-align: right;\">\n",
       "      <th></th>\n",
       "      <th>title</th>\n",
       "      <th>distributor</th>\n",
       "      <th>genre</th>\n",
       "      <th>release_time</th>\n",
       "      <th>time</th>\n",
       "      <th>screening_rat</th>\n",
       "      <th>dir_prev_bfnum</th>\n",
       "      <th>dir_prev_num</th>\n",
       "      <th>num_staff</th>\n",
       "      <th>num_actor</th>\n",
       "      <th>box_off_num</th>\n",
       "      <th>star_score</th>\n",
       "      <th>genre_rank</th>\n",
       "      <th>dist_rank</th>\n",
       "      <th>screening_rank</th>\n",
       "    </tr>\n",
       "  </thead>\n",
       "  <tbody>\n",
       "    <tr>\n",
       "      <th>0</th>\n",
       "      <td>개들의 전쟁</td>\n",
       "      <td>롯데엔터테인먼트</td>\n",
       "      <td>10</td>\n",
       "      <td>2012-11-22</td>\n",
       "      <td>96</td>\n",
       "      <td>3</td>\n",
       "      <td>4.726993e+05</td>\n",
       "      <td>0.876667</td>\n",
       "      <td>91.0</td>\n",
       "      <td>2.0</td>\n",
       "      <td>23398</td>\n",
       "      <td>7.30</td>\n",
       "      <td>11</td>\n",
       "      <td>143</td>\n",
       "      <td>2</td>\n",
       "    </tr>\n",
       "    <tr>\n",
       "      <th>1</th>\n",
       "      <td>내부자들</td>\n",
       "      <td>쇼박스</td>\n",
       "      <td>2</td>\n",
       "      <td>2015-11-19</td>\n",
       "      <td>130</td>\n",
       "      <td>3</td>\n",
       "      <td>1.161602e+06</td>\n",
       "      <td>2.000000</td>\n",
       "      <td>387.0</td>\n",
       "      <td>3.0</td>\n",
       "      <td>7072501</td>\n",
       "      <td>9.00</td>\n",
       "      <td>12</td>\n",
       "      <td>154</td>\n",
       "      <td>2</td>\n",
       "    </tr>\n",
       "    <tr>\n",
       "      <th>2</th>\n",
       "      <td>은밀하게 위대하게</td>\n",
       "      <td>쇼박스</td>\n",
       "      <td>10</td>\n",
       "      <td>2013-06-05</td>\n",
       "      <td>123</td>\n",
       "      <td>1</td>\n",
       "      <td>2.207752e+05</td>\n",
       "      <td>4.000000</td>\n",
       "      <td>343.0</td>\n",
       "      <td>4.0</td>\n",
       "      <td>6959083</td>\n",
       "      <td>7.12</td>\n",
       "      <td>11</td>\n",
       "      <td>154</td>\n",
       "      <td>4</td>\n",
       "    </tr>\n",
       "    <tr>\n",
       "      <th>3</th>\n",
       "      <td>나는 공무원이다</td>\n",
       "      <td>NEW</td>\n",
       "      <td>11</td>\n",
       "      <td>2012-07-12</td>\n",
       "      <td>101</td>\n",
       "      <td>2</td>\n",
       "      <td>2.389400e+04</td>\n",
       "      <td>2.000000</td>\n",
       "      <td>20.0</td>\n",
       "      <td>6.0</td>\n",
       "      <td>217866</td>\n",
       "      <td>6.13</td>\n",
       "      <td>9</td>\n",
       "      <td>148</td>\n",
       "      <td>1</td>\n",
       "    </tr>\n",
       "    <tr>\n",
       "      <th>4</th>\n",
       "      <td>불량남녀</td>\n",
       "      <td>쇼박스미디어플렉스</td>\n",
       "      <td>11</td>\n",
       "      <td>2010-11-04</td>\n",
       "      <td>108</td>\n",
       "      <td>1</td>\n",
       "      <td>1.000000e+00</td>\n",
       "      <td>1.000000</td>\n",
       "      <td>251.0</td>\n",
       "      <td>2.0</td>\n",
       "      <td>483387</td>\n",
       "      <td>8.16</td>\n",
       "      <td>9</td>\n",
       "      <td>157</td>\n",
       "      <td>4</td>\n",
       "    </tr>\n",
       "  </tbody>\n",
       "</table>\n",
       "</div>"
      ],
      "text/plain": [
       "       title distributor  genre release_time  time  screening_rat  \\\n",
       "0     개들의 전쟁    롯데엔터테인먼트     10   2012-11-22    96              3   \n",
       "1       내부자들         쇼박스      2   2015-11-19   130              3   \n",
       "2  은밀하게 위대하게         쇼박스     10   2013-06-05   123              1   \n",
       "3   나는 공무원이다         NEW     11   2012-07-12   101              2   \n",
       "4       불량남녀   쇼박스미디어플렉스     11   2010-11-04   108              1   \n",
       "\n",
       "   dir_prev_bfnum  dir_prev_num  num_staff  num_actor  box_off_num  \\\n",
       "0    4.726993e+05      0.876667       91.0        2.0        23398   \n",
       "1    1.161602e+06      2.000000      387.0        3.0      7072501   \n",
       "2    2.207752e+05      4.000000      343.0        4.0      6959083   \n",
       "3    2.389400e+04      2.000000       20.0        6.0       217866   \n",
       "4    1.000000e+00      1.000000      251.0        2.0       483387   \n",
       "\n",
       "   star_score  genre_rank  dist_rank  screening_rank  \n",
       "0        7.30          11        143               2  \n",
       "1        9.00          12        154               2  \n",
       "2        7.12          11        154               4  \n",
       "3        6.13           9        148               1  \n",
       "4        8.16           9        157               4  "
      ]
     },
     "execution_count": 33,
     "metadata": {},
     "output_type": "execute_result"
    }
   ],
   "source": [
    "train['screening_rank'] = train.screening_rat.map({2 : 1, 3 : 2, 0 : 3, 1 : 4})\n",
    "test['screening_rank'] = test.screening_rat.map({2 : 1, 3 : 2, 0 : 3, 1 : 4})\n",
    "\n",
    "train.head()"
   ]
  },
  {
   "cell_type": "code",
   "execution_count": 34,
   "metadata": {},
   "outputs": [
    {
     "data": {
      "text/html": [
       "<div>\n",
       "<style scoped>\n",
       "    .dataframe tbody tr th:only-of-type {\n",
       "        vertical-align: middle;\n",
       "    }\n",
       "\n",
       "    .dataframe tbody tr th {\n",
       "        vertical-align: top;\n",
       "    }\n",
       "\n",
       "    .dataframe thead th {\n",
       "        text-align: right;\n",
       "    }\n",
       "</style>\n",
       "<table border=\"1\" class=\"dataframe\">\n",
       "  <thead>\n",
       "    <tr style=\"text-align: right;\">\n",
       "      <th></th>\n",
       "      <th>title</th>\n",
       "      <th>distributor</th>\n",
       "      <th>genre</th>\n",
       "      <th>release_time</th>\n",
       "      <th>time</th>\n",
       "      <th>screening_rat</th>\n",
       "      <th>dir_prev_bfnum</th>\n",
       "      <th>dir_prev_num</th>\n",
       "      <th>num_staff</th>\n",
       "      <th>num_actor</th>\n",
       "      <th>box_off_num</th>\n",
       "      <th>star_score</th>\n",
       "      <th>genre_rank</th>\n",
       "      <th>dist_rank</th>\n",
       "      <th>screening_rank</th>\n",
       "      <th>month</th>\n",
       "    </tr>\n",
       "  </thead>\n",
       "  <tbody>\n",
       "    <tr>\n",
       "      <th>0</th>\n",
       "      <td>개들의 전쟁</td>\n",
       "      <td>롯데엔터테인먼트</td>\n",
       "      <td>10</td>\n",
       "      <td>2012-11-22</td>\n",
       "      <td>96</td>\n",
       "      <td>3</td>\n",
       "      <td>4.726993e+05</td>\n",
       "      <td>0.876667</td>\n",
       "      <td>91.0</td>\n",
       "      <td>2.0</td>\n",
       "      <td>23398</td>\n",
       "      <td>7.30</td>\n",
       "      <td>11</td>\n",
       "      <td>143</td>\n",
       "      <td>2</td>\n",
       "      <td>11</td>\n",
       "    </tr>\n",
       "    <tr>\n",
       "      <th>1</th>\n",
       "      <td>내부자들</td>\n",
       "      <td>쇼박스</td>\n",
       "      <td>2</td>\n",
       "      <td>2015-11-19</td>\n",
       "      <td>130</td>\n",
       "      <td>3</td>\n",
       "      <td>1.161602e+06</td>\n",
       "      <td>2.000000</td>\n",
       "      <td>387.0</td>\n",
       "      <td>3.0</td>\n",
       "      <td>7072501</td>\n",
       "      <td>9.00</td>\n",
       "      <td>12</td>\n",
       "      <td>154</td>\n",
       "      <td>2</td>\n",
       "      <td>11</td>\n",
       "    </tr>\n",
       "    <tr>\n",
       "      <th>2</th>\n",
       "      <td>은밀하게 위대하게</td>\n",
       "      <td>쇼박스</td>\n",
       "      <td>10</td>\n",
       "      <td>2013-06-05</td>\n",
       "      <td>123</td>\n",
       "      <td>1</td>\n",
       "      <td>2.207752e+05</td>\n",
       "      <td>4.000000</td>\n",
       "      <td>343.0</td>\n",
       "      <td>4.0</td>\n",
       "      <td>6959083</td>\n",
       "      <td>7.12</td>\n",
       "      <td>11</td>\n",
       "      <td>154</td>\n",
       "      <td>4</td>\n",
       "      <td>6</td>\n",
       "    </tr>\n",
       "  </tbody>\n",
       "</table>\n",
       "</div>"
      ],
      "text/plain": [
       "       title distributor  genre release_time  time  screening_rat  \\\n",
       "0     개들의 전쟁    롯데엔터테인먼트     10   2012-11-22    96              3   \n",
       "1       내부자들         쇼박스      2   2015-11-19   130              3   \n",
       "2  은밀하게 위대하게         쇼박스     10   2013-06-05   123              1   \n",
       "\n",
       "   dir_prev_bfnum  dir_prev_num  num_staff  num_actor  box_off_num  \\\n",
       "0    4.726993e+05      0.876667       91.0        2.0        23398   \n",
       "1    1.161602e+06      2.000000      387.0        3.0      7072501   \n",
       "2    2.207752e+05      4.000000      343.0        4.0      6959083   \n",
       "\n",
       "   star_score  genre_rank  dist_rank  screening_rank  month  \n",
       "0        7.30          11        143               2     11  \n",
       "1        9.00          12        154               2     11  \n",
       "2        7.12          11        154               4      6  "
      ]
     },
     "execution_count": 34,
     "metadata": {},
     "output_type": "execute_result"
    }
   ],
   "source": [
    "# 개봉일(release_time) 'month'만 가져오기\n",
    "train['month'] = train['release_time'].str[5:7].astype(int)\n",
    "test['month'] = test['release_time'].str[5:7].astype(int)\n",
    "train.head(3)"
   ]
  },
  {
   "cell_type": "code",
   "execution_count": 35,
   "metadata": {},
   "outputs": [
    {
     "data": {
      "text/plain": [
       "month\n",
       "4     2.581667e+05\n",
       "3     2.738874e+05\n",
       "10    3.859042e+05\n",
       "11    4.956539e+05\n",
       "6     5.122865e+05\n",
       "5     5.756852e+05\n",
       "2     6.630252e+05\n",
       "9     7.315286e+05\n",
       "8     1.029162e+06\n",
       "7     1.113807e+06\n",
       "12    1.288248e+06\n",
       "1     1.365931e+06\n",
       "Name: box_off_num, dtype: float64"
      ]
     },
     "execution_count": 35,
     "metadata": {},
     "output_type": "execute_result"
    }
   ],
   "source": [
    "train.groupby('month').box_off_num.mean().sort_values()"
   ]
  },
  {
   "cell_type": "code",
   "execution_count": 36,
   "metadata": {},
   "outputs": [
    {
     "data": {
      "text/plain": [
       "<matplotlib.axes._subplots.AxesSubplot at 0x1e6902a6340>"
      ]
     },
     "execution_count": 36,
     "metadata": {},
     "output_type": "execute_result"
    },
    {
     "data": {
      "image/png": "[encoded data removed]",
      "text/plain": [
       "<Figure size 576x432 with 1 Axes>"
      ]
     },
     "metadata": {
      "needs_background": "light"
     },
     "output_type": "display_data"
    }
   ],
   "source": [
    "f, ax = plt.subplots(figsize = (8,6))\n",
    "sns.boxplot(x='month', y='box_off_num', data=train[['month', 'box_off_num']])"
   ]
  },
  {
   "cell_type": "code",
   "execution_count": 37,
   "metadata": {
    "scrolled": true
   },
   "outputs": [
    {
     "data": {
      "text/plain": [
       "array([1.01333333e+02, 9.16666667e+01, 5.98571429e+01, 2.04000000e+02,\n",
       "       3.80000000e+02, 7.80000000e+01, 5.50000000e+00, 2.34000000e+01,\n",
       "       7.60000000e+01, 8.50000000e+01, 6.80000000e+01, 3.19000000e+02,\n",
       "       3.44444444e+01, 7.57142857e+00, 1.02666667e+02, 1.29250000e+02,\n",
       "       2.72500000e+01, 1.64500000e+02, 7.90000000e+01, 1.59316872e+01,\n",
       "       1.42857143e+00, 3.85000000e+01, 5.47500000e+01, 1.40000000e+00,\n",
       "       3.66666667e+00, 1.48666667e+02, 1.00000000e+00, 1.13666667e+02,\n",
       "       3.42500000e+01, 6.85000000e+01, 2.87573964e-01, 2.72727273e-01,\n",
       "       2.87500000e+01, 2.20000000e+01, 5.00000000e+00, 1.55000000e+01,\n",
       "       1.62500000e+01, 1.95000000e+01, 1.45555556e+01, 2.57142857e+00,\n",
       "       8.20000000e+00, 2.77500000e+01, 4.42857143e+00, 5.26666667e+01,\n",
       "       4.20000000e+01, 8.00000000e+00, 4.00000000e+00, 1.19500000e+02,\n",
       "       1.92000000e+01, 6.30000000e+01, 6.87500000e+01, 3.66000000e+01,\n",
       "       7.00000000e+00, 1.59000000e+02, 1.95000000e+02, 4.75714286e+01,\n",
       "       8.46000000e+01, 3.69000000e+02, 2.00000000e+01, 9.00000000e+00,\n",
       "       4.65000000e+01, 2.60000000e+01, 7.44000000e+01, 2.53333333e+01,\n",
       "       7.75000000e+01, 8.95000000e+01, 8.06000000e+01, 2.10769231e+01,\n",
       "       7.96584362e+01, 1.51000000e+02, 3.33333333e+00, 1.34000000e+02,\n",
       "       7.25000000e+01, 5.12500000e+01, 7.55000000e+01, 1.58000000e+02,\n",
       "       8.45000000e+01, 1.73500000e+02, 1.19000000e+02, 8.00000000e-01,\n",
       "       3.18633745e+01, 2.00000000e+00, 9.60000000e+01, 3.00000000e+00,\n",
       "       2.47500000e+01, 9.83333333e+01, 8.62721893e-01, 1.25000000e+00,\n",
       "       3.25000000e+01, 7.16666667e+00, 3.86666667e+01, 5.50000000e+01,\n",
       "       4.13333333e+01, 1.06333333e+02, 6.66666667e-01, 1.14000000e+01,\n",
       "       1.18000000e+02, 1.10000000e+01, 1.52500000e+02, 1.86666667e+01,\n",
       "       1.20333333e+02, 6.40000000e+01, 1.15000000e+02, 7.33333333e+00,\n",
       "       2.82500000e+01, 1.40000000e+02, 3.60000000e+01, 9.66666667e+01,\n",
       "       8.40000000e+00, 1.37500000e+01, 1.00000000e+01, 7.86666667e+01,\n",
       "       9.20000000e+01, 1.90000000e+01, 1.20000000e+00, 9.50000000e+00,\n",
       "       5.83333333e+01, 1.59316872e+02, 6.90000000e+01, 5.00000000e-01,\n",
       "       8.12000000e+01, 6.26666667e+01, 3.98292181e+01, 1.20500000e+02,\n",
       "       2.45000000e+01, 6.06000000e+01, 8.00000000e+01, 5.27500000e+01,\n",
       "       5.60000000e+01, 1.11250000e+02, 7.62000000e+01, 1.92500000e+01,\n",
       "       1.98333333e+01, 9.70000000e+00, 1.45000000e+01, 3.33333333e-01,\n",
       "       2.57000000e+02, 1.49666667e+02, 7.76666667e+01, 8.53333333e+01,\n",
       "       4.56666667e+01, 4.71428571e+00, 3.45088757e+00, 7.50000000e-01,\n",
       "       2.28000000e+02, 6.00000000e+00, 2.05000000e+01, 5.31056241e+01,\n",
       "       3.70000000e+01, 2.95000000e+01, 5.25000000e+01, 4.04000000e+01,\n",
       "       4.45000000e+01, 1.85000000e+01, 2.58666667e+02, 3.42500000e+02,\n",
       "       4.76666667e+01, 2.10000000e+01, 6.46666667e+01, 9.40000000e+01,\n",
       "       1.12000000e+01, 3.47500000e+01, 1.97500000e+01, 1.26000000e+01,\n",
       "       1.50000000e+00, 1.30000000e+01, 1.54333333e+02, 1.73333333e+02,\n",
       "       5.35000000e+01, 3.33333333e+01, 2.65528121e+01, 4.43333333e+01,\n",
       "       6.50000000e+01, 7.10000000e+01, 1.45666667e+02, 1.87000000e+02,\n",
       "       3.65000000e+01, 2.04500000e+02, 1.38000000e+02, 1.02000000e+02,\n",
       "       1.46500000e+02, 1.60000000e+01, 2.13333333e+01, 2.90000000e+01,\n",
       "       3.05000000e+01, 3.43333333e+01, 4.66666667e+00, 1.54500000e+02,\n",
       "       1.02000000e+01, 1.44750000e+02, 4.36666667e+01, 6.86000000e+01,\n",
       "       3.15000000e+01, 4.05000000e+01, 9.66666667e+00, 9.71428571e+00,\n",
       "       2.50000000e+00])"
      ]
     },
     "execution_count": 37,
     "metadata": {},
     "output_type": "execute_result"
    }
   ],
   "source": [
    "# 배우 1명당 스태프 수\n",
    "train.loc[train['num_actor']>0, 'staff_per_actor'] = train['num_staff'] / train['num_actor']\n",
    "test.loc[train['num_actor']>0, 'staff_per_actor'] = test['num_staff'] / test['num_actor']\n",
    "\n",
    "train = train.replace([np.inf, -np.inf], np.nan)\n",
    "test = test.replace([np.inf, -np.inf], np.nan)\n",
    "\n",
    "train['staff_per_actor'] = train['staff_per_actor'].fillna(train.mean())\n",
    "test['staff_per_actor']=test['staff_per_actor'].fillna(train.mean())\n",
    "test['staff_per_actor'].unique()"
   ]
  },
  {
   "cell_type": "code",
   "execution_count": 38,
   "metadata": {},
   "outputs": [
    {
     "data": {
      "text/html": [
       "<div>\n",
       "<style scoped>\n",
       "    .dataframe tbody tr th:only-of-type {\n",
       "        vertical-align: middle;\n",
       "    }\n",
       "\n",
       "    .dataframe tbody tr th {\n",
       "        vertical-align: top;\n",
       "    }\n",
       "\n",
       "    .dataframe thead th {\n",
       "        text-align: right;\n",
       "    }\n",
       "</style>\n",
       "<table border=\"1\" class=\"dataframe\">\n",
       "  <thead>\n",
       "    <tr style=\"text-align: right;\">\n",
       "      <th></th>\n",
       "      <th>title</th>\n",
       "      <th>distributor</th>\n",
       "      <th>genre</th>\n",
       "      <th>release_time</th>\n",
       "      <th>time</th>\n",
       "      <th>screening_rat</th>\n",
       "      <th>dir_prev_bfnum</th>\n",
       "      <th>dir_prev_num</th>\n",
       "      <th>num_staff</th>\n",
       "      <th>num_actor</th>\n",
       "      <th>box_off_num</th>\n",
       "      <th>star_score</th>\n",
       "      <th>genre_rank</th>\n",
       "      <th>dist_rank</th>\n",
       "      <th>screening_rank</th>\n",
       "      <th>month</th>\n",
       "      <th>staff_per_actor</th>\n",
       "      <th>title_len</th>\n",
       "    </tr>\n",
       "  </thead>\n",
       "  <tbody>\n",
       "    <tr>\n",
       "      <th>0</th>\n",
       "      <td>개들의 전쟁</td>\n",
       "      <td>롯데엔터테인먼트</td>\n",
       "      <td>10</td>\n",
       "      <td>2012-11-22</td>\n",
       "      <td>96</td>\n",
       "      <td>3</td>\n",
       "      <td>4.726993e+05</td>\n",
       "      <td>0.876667</td>\n",
       "      <td>91.0</td>\n",
       "      <td>2.0</td>\n",
       "      <td>23398</td>\n",
       "      <td>7.30</td>\n",
       "      <td>11</td>\n",
       "      <td>143</td>\n",
       "      <td>2</td>\n",
       "      <td>11</td>\n",
       "      <td>45.50</td>\n",
       "      <td>6</td>\n",
       "    </tr>\n",
       "    <tr>\n",
       "      <th>1</th>\n",
       "      <td>내부자들</td>\n",
       "      <td>쇼박스</td>\n",
       "      <td>2</td>\n",
       "      <td>2015-11-19</td>\n",
       "      <td>130</td>\n",
       "      <td>3</td>\n",
       "      <td>1.161602e+06</td>\n",
       "      <td>2.000000</td>\n",
       "      <td>387.0</td>\n",
       "      <td>3.0</td>\n",
       "      <td>7072501</td>\n",
       "      <td>9.00</td>\n",
       "      <td>12</td>\n",
       "      <td>154</td>\n",
       "      <td>2</td>\n",
       "      <td>11</td>\n",
       "      <td>129.00</td>\n",
       "      <td>4</td>\n",
       "    </tr>\n",
       "    <tr>\n",
       "      <th>2</th>\n",
       "      <td>은밀하게 위대하게</td>\n",
       "      <td>쇼박스</td>\n",
       "      <td>10</td>\n",
       "      <td>2013-06-05</td>\n",
       "      <td>123</td>\n",
       "      <td>1</td>\n",
       "      <td>2.207752e+05</td>\n",
       "      <td>4.000000</td>\n",
       "      <td>343.0</td>\n",
       "      <td>4.0</td>\n",
       "      <td>6959083</td>\n",
       "      <td>7.12</td>\n",
       "      <td>11</td>\n",
       "      <td>154</td>\n",
       "      <td>4</td>\n",
       "      <td>6</td>\n",
       "      <td>85.75</td>\n",
       "      <td>9</td>\n",
       "    </tr>\n",
       "  </tbody>\n",
       "</table>\n",
       "</div>"
      ],
      "text/plain": [
       "       title distributor  genre release_time  time  screening_rat  \\\n",
       "0     개들의 전쟁    롯데엔터테인먼트     10   2012-11-22    96              3   \n",
       "1       내부자들         쇼박스      2   2015-11-19   130              3   \n",
       "2  은밀하게 위대하게         쇼박스     10   2013-06-05   123              1   \n",
       "\n",
       "   dir_prev_bfnum  dir_prev_num  num_staff  num_actor  box_off_num  \\\n",
       "0    4.726993e+05      0.876667       91.0        2.0        23398   \n",
       "1    1.161602e+06      2.000000      387.0        3.0      7072501   \n",
       "2    2.207752e+05      4.000000      343.0        4.0      6959083   \n",
       "\n",
       "   star_score  genre_rank  dist_rank  screening_rank  month  staff_per_actor  \\\n",
       "0        7.30          11        143               2     11            45.50   \n",
       "1        9.00          12        154               2     11           129.00   \n",
       "2        7.12          11        154               4      6            85.75   \n",
       "\n",
       "   title_len  \n",
       "0          6  \n",
       "1          4  \n",
       "2          9  "
      ]
     },
     "execution_count": 38,
     "metadata": {},
     "output_type": "execute_result"
    }
   ],
   "source": [
    "# 제목 글자수 변수(공백 포함)\n",
    "title_len = []\n",
    "for i in train['title']:\n",
    "    a = len(i)\n",
    "    title_len.append(a)\n",
    "    \n",
    "title_len = pd.DataFrame(title_len)\n",
    "\n",
    "train['title_len'] = title_len\n",
    "train.head(3)"
   ]
  },
  {
   "cell_type": "code",
   "execution_count": 39,
   "metadata": {},
   "outputs": [
    {
     "data": {
      "text/html": [
       "<div>\n",
       "<style scoped>\n",
       "    .dataframe tbody tr th:only-of-type {\n",
       "        vertical-align: middle;\n",
       "    }\n",
       "\n",
       "    .dataframe tbody tr th {\n",
       "        vertical-align: top;\n",
       "    }\n",
       "\n",
       "    .dataframe thead th {\n",
       "        text-align: right;\n",
       "    }\n",
       "</style>\n",
       "<table border=\"1\" class=\"dataframe\">\n",
       "  <thead>\n",
       "    <tr style=\"text-align: right;\">\n",
       "      <th></th>\n",
       "      <th>title</th>\n",
       "      <th>distributor</th>\n",
       "      <th>genre</th>\n",
       "      <th>release_time</th>\n",
       "      <th>time</th>\n",
       "      <th>screening_rat</th>\n",
       "      <th>dir_prev_bfnum</th>\n",
       "      <th>dir_prev_num</th>\n",
       "      <th>num_staff</th>\n",
       "      <th>num_actor</th>\n",
       "      <th>star_score</th>\n",
       "      <th>genre_rank</th>\n",
       "      <th>dist_rank</th>\n",
       "      <th>screening_rank</th>\n",
       "      <th>month</th>\n",
       "      <th>staff_per_actor</th>\n",
       "      <th>title_len</th>\n",
       "    </tr>\n",
       "  </thead>\n",
       "  <tbody>\n",
       "    <tr>\n",
       "      <th>0</th>\n",
       "      <td>용서는 없다</td>\n",
       "      <td>시네마서비스</td>\n",
       "      <td>2</td>\n",
       "      <td>2010-01-07</td>\n",
       "      <td>125</td>\n",
       "      <td>3</td>\n",
       "      <td>3.005290e+05</td>\n",
       "      <td>2.0</td>\n",
       "      <td>304.0</td>\n",
       "      <td>3.0</td>\n",
       "      <td>7.62</td>\n",
       "      <td>12</td>\n",
       "      <td>140.0</td>\n",
       "      <td>2</td>\n",
       "      <td>1</td>\n",
       "      <td>101.333333</td>\n",
       "      <td>6</td>\n",
       "    </tr>\n",
       "    <tr>\n",
       "      <th>1</th>\n",
       "      <td>아빠가 여자를 좋아해</td>\n",
       "      <td>쇼박스</td>\n",
       "      <td>5</td>\n",
       "      <td>2010-01-14</td>\n",
       "      <td>113</td>\n",
       "      <td>0</td>\n",
       "      <td>3.427002e+05</td>\n",
       "      <td>4.0</td>\n",
       "      <td>275.0</td>\n",
       "      <td>3.0</td>\n",
       "      <td>7.87</td>\n",
       "      <td>5</td>\n",
       "      <td>154.0</td>\n",
       "      <td>3</td>\n",
       "      <td>1</td>\n",
       "      <td>91.666667</td>\n",
       "      <td>11</td>\n",
       "    </tr>\n",
       "    <tr>\n",
       "      <th>2</th>\n",
       "      <td>하모니</td>\n",
       "      <td>CJ엔터테인먼트</td>\n",
       "      <td>4</td>\n",
       "      <td>2010-01-28</td>\n",
       "      <td>115</td>\n",
       "      <td>0</td>\n",
       "      <td>4.206611e+06</td>\n",
       "      <td>3.0</td>\n",
       "      <td>419.0</td>\n",
       "      <td>7.0</td>\n",
       "      <td>0.00</td>\n",
       "      <td>8</td>\n",
       "      <td>149.0</td>\n",
       "      <td>3</td>\n",
       "      <td>1</td>\n",
       "      <td>59.857143</td>\n",
       "      <td>3</td>\n",
       "    </tr>\n",
       "  </tbody>\n",
       "</table>\n",
       "</div>"
      ],
      "text/plain": [
       "         title distributor  genre release_time  time  screening_rat  \\\n",
       "0       용서는 없다      시네마서비스      2   2010-01-07   125              3   \n",
       "1  아빠가 여자를 좋아해         쇼박스      5   2010-01-14   113              0   \n",
       "2          하모니    CJ엔터테인먼트      4   2010-01-28   115              0   \n",
       "\n",
       "   dir_prev_bfnum  dir_prev_num  num_staff  num_actor  star_score  genre_rank  \\\n",
       "0    3.005290e+05           2.0      304.0        3.0        7.62          12   \n",
       "1    3.427002e+05           4.0      275.0        3.0        7.87           5   \n",
       "2    4.206611e+06           3.0      419.0        7.0        0.00           8   \n",
       "\n",
       "   dist_rank  screening_rank  month  staff_per_actor  title_len  \n",
       "0      140.0               2      1       101.333333          6  \n",
       "1      154.0               3      1        91.666667         11  \n",
       "2      149.0               3      1        59.857143          3  "
      ]
     },
     "execution_count": 39,
     "metadata": {},
     "output_type": "execute_result"
    }
   ],
   "source": [
    "title_len = []\n",
    "for i in test['title']:\n",
    "    a = len(i)\n",
    "    title_len.append(a)\n",
    "    \n",
    "title_len = pd.DataFrame(title_len)\n",
    "\n",
    "test['title_len'] = title_len\n",
    "test.head(3)"
   ]
  },
  {
   "cell_type": "markdown",
   "metadata": {},
   "source": [
    "star_score(네이버영화 별점), genre_rank(장르별 관객수 평균 랭크), dist_rank(배급사별 관객수 중위값 랭크), screening_rank(상영등급별 관객수 평균 랭크), month(개봉일자의 월), staff_per_actor(배우 한 명당 스태프 수), staff_per_actor, title_len(제목 길이) 변수 추가 完"
   ]
  },
  {
   "cell_type": "markdown",
   "metadata": {},
   "source": [
    "# EDA"
   ]
  },
  {
   "cell_type": "code",
   "execution_count": 40,
   "metadata": {},
   "outputs": [
    {
     "name": "stdout",
     "output_type": "stream",
     "text": [
      "<class 'pandas.core.frame.DataFrame'>\n",
      "Int64Index: 600 entries, 0 to 599\n",
      "Data columns (total 18 columns):\n",
      " #   Column           Non-Null Count  Dtype  \n",
      "---  ------           --------------  -----  \n",
      " 0   title            600 non-null    object \n",
      " 1   distributor      600 non-null    object \n",
      " 2   genre            600 non-null    int32  \n",
      " 3   release_time     600 non-null    object \n",
      " 4   time             600 non-null    int64  \n",
      " 5   screening_rat    600 non-null    int32  \n",
      " 6   dir_prev_bfnum   600 non-null    float64\n",
      " 7   dir_prev_num     600 non-null    float64\n",
      " 8   num_staff        600 non-null    float64\n",
      " 9   num_actor        600 non-null    float64\n",
      " 10  box_off_num      600 non-null    int64  \n",
      " 11  star_score       600 non-null    float64\n",
      " 12  genre_rank       600 non-null    int64  \n",
      " 13  dist_rank        600 non-null    int64  \n",
      " 14  screening_rank   600 non-null    int64  \n",
      " 15  month            600 non-null    int32  \n",
      " 16  staff_per_actor  600 non-null    float64\n",
      " 17  title_len        600 non-null    int64  \n",
      "dtypes: float64(6), int32(3), int64(6), object(3)\n",
      "memory usage: 102.0+ KB\n",
      "<class 'pandas.core.frame.DataFrame'>\n",
      "Int64Index: 243 entries, 0 to 242\n",
      "Data columns (total 17 columns):\n",
      " #   Column           Non-Null Count  Dtype  \n",
      "---  ------           --------------  -----  \n",
      " 0   title            243 non-null    object \n",
      " 1   distributor      243 non-null    object \n",
      " 2   genre            243 non-null    int32  \n",
      " 3   release_time     243 non-null    object \n",
      " 4   time             243 non-null    int64  \n",
      " 5   screening_rat    243 non-null    int32  \n",
      " 6   dir_prev_bfnum   243 non-null    float64\n",
      " 7   dir_prev_num     243 non-null    float64\n",
      " 8   num_staff        243 non-null    float64\n",
      " 9   num_actor        243 non-null    float64\n",
      " 10  star_score       243 non-null    float64\n",
      " 11  genre_rank       243 non-null    int64  \n",
      " 12  dist_rank        243 non-null    float64\n",
      " 13  screening_rank   243 non-null    int64  \n",
      " 14  month            243 non-null    int32  \n",
      " 15  staff_per_actor  243 non-null    float64\n",
      " 16  title_len        243 non-null    int64  \n",
      "dtypes: float64(7), int32(3), int64(4), object(3)\n",
      "memory usage: 31.3+ KB\n"
     ]
    }
   ],
   "source": [
    "train.info()\n",
    "test.info()"
   ]
  },
  {
   "cell_type": "code",
   "execution_count": 41,
   "metadata": {},
   "outputs": [
    {
     "data": {
      "text/plain": [
       "<matplotlib.axes._subplots.AxesSubplot at 0x1e6903e72e0>"
      ]
     },
     "execution_count": 41,
     "metadata": {},
     "output_type": "execute_result"
    },
    {
     "data": {
      "image/png": "[encoded data removed]",
      "text/plain": [
       "<Figure size 432x288 with 1 Axes>"
      ]
     },
     "metadata": {
      "needs_background": "light"
     },
     "output_type": "display_data"
    }
   ],
   "source": [
    "sns.distplot(train['staff_per_actor'])"
   ]
  },
  {
   "cell_type": "code",
   "execution_count": 42,
   "metadata": {},
   "outputs": [
    {
     "data": {
      "image/png": "[encoded data removed]",
      "text/plain": [
       "<Figure size 720x1080 with 16 Axes>"
      ]
     },
     "metadata": {
      "needs_background": "light"
     },
     "output_type": "display_data"
    }
   ],
   "source": [
    "train.hist(bins=50, figsize=(10,15))\n",
    "plt.show()"
   ]
  },
  {
   "cell_type": "code",
   "execution_count": 43,
   "metadata": {},
   "outputs": [],
   "source": [
    "train = train.drop(['genre', 'screening_rat'], axis= 1)\n",
    "test = test.drop(['genre', 'screening_rat'], axis= 1)"
   ]
  },
  {
   "cell_type": "code",
   "execution_count": 44,
   "metadata": {},
   "outputs": [
    {
     "name": "stdout",
     "output_type": "stream",
     "text": [
      "6.77469857886737\n",
      "1.9563661516101347\n",
      "3.0982682964893855\n",
      "1.2190597784830792\n",
      "2.4220675404876273\n",
      "1.60016087812632\n"
     ]
    }
   ],
   "source": [
    "#왜도\n",
    "print(train['dir_prev_bfnum'].skew())\n",
    "print(train['dir_prev_num'].skew())\n",
    "print(train['num_actor'].skew())\n",
    "print(train['num_staff'].skew())\n",
    "print(train['staff_per_actor'].skew())\n",
    "print(train['title_len'].skew())"
   ]
  },
  {
   "cell_type": "code",
   "execution_count": 45,
   "metadata": {},
   "outputs": [
    {
     "name": "stdout",
     "output_type": "stream",
     "text": [
      "68.75100884875246\n",
      "3.231599179452693\n",
      "17.687101300991234\n",
      "1.2174975220671662\n",
      "11.26647004691761\n",
      "3.4944540463070464\n"
     ]
    }
   ],
   "source": [
    "#첨도\n",
    "print(train['dir_prev_bfnum'].kurt())\n",
    "print(train['dir_prev_num'].kurt())\n",
    "print(train['num_actor'].kurt())\n",
    "print(train['num_staff'].kurt())\n",
    "print(train['staff_per_actor'].kurt())\n",
    "print(train['title_len'].kurt())"
   ]
  },
  {
   "cell_type": "code",
   "execution_count": 46,
   "metadata": {},
   "outputs": [],
   "source": [
    "# dir_prev_bfnum, num_actor, staff_per_actor, (title_len) 로그 스케일링\n",
    "train['dir_prev_bfnum'] = np.log1p(train['dir_prev_bfnum'])\n",
    "train['num_actor'] = np.log1p(train['num_actor'])\n",
    "train['staff_per_actor'] = np.log1p(train['staff_per_actor'])\n",
    "train['title_len'] = np.log1p(train['title_len'])\n",
    "\n",
    "test['dir_prev_bfnum'] = np.log1p(test['dir_prev_bfnum'])\n",
    "test['num_actor'] = np.log1p(test['num_actor'])\n",
    "test['staff_per_actor'] = np.log1p(test['staff_per_actor'])\n",
    "test['title_len'] = np.log1p(test['title_len'])"
   ]
  },
  {
   "cell_type": "code",
   "execution_count": 47,
   "metadata": {},
   "outputs": [
    {
     "name": "stdout",
     "output_type": "stream",
     "text": [
      "-2.3563195824207783 6.065569271399079\n",
      "0.5763164369019238 0.9715721548839427\n",
      "-0.4091768250886339 -0.8103405761298781\n",
      "0.16009393954899057 -0.4280938193848356\n"
     ]
    }
   ],
   "source": [
    "print(train['dir_prev_bfnum'].skew(), train['dir_prev_bfnum'].kurt())\n",
    "print(train['num_actor'].skew(), train['num_actor'].kurt())\n",
    "print(train['staff_per_actor'].skew(), train['staff_per_actor'].kurt())\n",
    "print(train['title_len'].skew(), train['title_len'].kurt())"
   ]
  },
  {
   "cell_type": "code",
   "execution_count": 48,
   "metadata": {},
   "outputs": [
    {
     "data": {
      "text/plain": [
       "<matplotlib.axes._subplots.AxesSubplot at 0x1e691467610>"
      ]
     },
     "execution_count": 48,
     "metadata": {},
     "output_type": "execute_result"
    },
    {
     "data": {
      "image/png": "[encoded data removed]",
      "text/plain": [
       "<Figure size 1152x720 with 2 Axes>"
      ]
     },
     "metadata": {
      "needs_background": "light"
     },
     "output_type": "display_data"
    }
   ],
   "source": [
    "f, ax = plt.subplots(figsize=(16, 10))\n",
    "sns.heatmap(train.corr(), annot = True, square=True, fmt = '.2f', linewidths=.5, cmap='Reds')"
   ]
  },
  {
   "cell_type": "markdown",
   "metadata": {},
   "source": [
    "# Modeling"
   ]
  },
  {
   "cell_type": "code",
   "execution_count": 49,
   "metadata": {},
   "outputs": [
    {
     "data": {
      "text/plain": [
       "Index(['time', 'dir_prev_bfnum', 'dir_prev_num', 'num_staff', 'num_actor',\n",
       "       'box_off_num', 'star_score', 'genre_rank', 'dist_rank',\n",
       "       'screening_rank', 'month', 'staff_per_actor', 'title_len'],\n",
       "      dtype='object')"
      ]
     },
     "execution_count": 49,
     "metadata": {},
     "output_type": "execute_result"
    }
   ],
   "source": [
    "train.head()\n",
    "train.columns[3:]"
   ]
  },
  {
   "cell_type": "code",
   "execution_count": 50,
   "metadata": {},
   "outputs": [],
   "source": [
    "features = ['time', 'dir_prev_bfnum', 'dir_prev_num', 'num_staff', 'num_actor', \n",
    "            'genre_rank', 'dist_rank', 'star_score', \n",
    "            'screening_rank', 'month', 'staff_per_actor', 'title_len']\n",
    "target = ['box_off_num']\n",
    "\n",
    "X_train, X_test, y_train = train[features], test[features], train[target]"
   ]
  },
  {
   "cell_type": "code",
   "execution_count": 51,
   "metadata": {},
   "outputs": [],
   "source": [
    "import statsmodels.api as sm"
   ]
  },
  {
   "cell_type": "code",
   "execution_count": 52,
   "metadata": {},
   "outputs": [
    {
     "name": "stderr",
     "output_type": "stream",
     "text": [
      "<ipython-input-52-ac7353cf9db8>:14: DeprecationWarning: The default dtype for empty Series will be 'object' instead of 'float64' in a future version. Specify a dtype explicitly to silence this warning.\n",
      "  pval = pd.Series(index=remainder) ## 변수의 p-value\n"
     ]
    }
   ],
   "source": [
    "variables = features ## 설명 변수 리스트\n",
    " \n",
    "y = y_train ## 반응 변수\n",
    "selected_variables = [] ## 선택된 변수들\n",
    "sl_enter = 0.05\n",
    "sl_remove = 0.05\n",
    " \n",
    "sv_per_step = [] ## 각 스텝별로 선택된 변수들\n",
    "adjusted_r_squared = [] ## 각 스텝별 수정된 결정계수\n",
    "steps = [] ## 스텝\n",
    "step = 0\n",
    "while len(variables) > 0:\n",
    "    remainder = list(set(variables) - set(selected_variables))\n",
    "    pval = pd.Series(index=remainder) ## 변수의 p-value\n",
    "    ## 기존에 포함된 변수와 새로운 변수 하나씩 돌아가면서 \n",
    "    ## 선형 모형을 적합한다.\n",
    "    for col in remainder: \n",
    "        X = train[selected_variables+[col]]\n",
    "        X = sm.add_constant(X)\n",
    "        model = sm.OLS(y,X.astype(float)).fit()\n",
    "        pval[col] = model.pvalues[col]\n",
    " \n",
    "    min_pval = pval.min()\n",
    "    if min_pval < sl_enter: ## 최소 p-value 값이 기준 값보다 작으면 포함\n",
    "        selected_variables.append(pval.idxmin())\n",
    "        ## 선택된 변수들에대해서\n",
    "        ## 어떤 변수를 제거할지 고른다.\n",
    "        while len(selected_variables) > 0:\n",
    "            selected_X = train[selected_variables]\n",
    "            selected_X = sm.add_constant(selected_X)\n",
    "            selected_pval = sm.OLS(y,selected_X).fit().pvalues[1:] ## 절편항의 p-value는 뺀다\n",
    "            max_pval = selected_pval.max()\n",
    "            if max_pval >= sl_remove: ## 최대 p-value값이 기준값보다 크거나 같으면 제외\n",
    "                remove_variable = selected_pval.idxmax()\n",
    "                selected_variables.remove(remove_variable)\n",
    "            else:\n",
    "                break\n",
    "        \n",
    "        step += 1\n",
    "        steps.append(step)\n",
    "        adj_r_squared = sm.OLS(y,sm.add_constant(train[selected_variables])).fit().rsquared_adj\n",
    "        adjusted_r_squared.append(adj_r_squared)\n",
    "        sv_per_step.append(selected_variables.copy())\n",
    "    else:\n",
    "        break"
   ]
  },
  {
   "cell_type": "code",
   "execution_count": 53,
   "metadata": {},
   "outputs": [
    {
     "data": {
      "text/plain": [
       "['num_staff', 'staff_per_actor', 'time', 'screening_rank']"
      ]
     },
     "execution_count": 53,
     "metadata": {},
     "output_type": "execute_result"
    }
   ],
   "source": [
    "selected_variables"
   ]
  },
  {
   "cell_type": "code",
   "execution_count": 54,
   "metadata": {
    "scrolled": false
   },
   "outputs": [
    {
     "data": {
      "image/png": "[encoded data removed]",
      "text/plain": [
       "<Figure size 720x720 with 1 Axes>"
      ]
     },
     "metadata": {},
     "output_type": "display_data"
    }
   ],
   "source": [
    "fig = plt.figure(figsize=(10,10))\n",
    "fig.set_facecolor('white')\n",
    " \n",
    "font_size = 15\n",
    "plt.xticks(steps,[f'step {s}\\n'+'\\n'.join(sv_per_step[i]) for i,s in enumerate(steps)], fontsize=12)\n",
    "plt.plot(steps,adjusted_r_squared, marker='o')\n",
    "    \n",
    "plt.ylabel('Adjusted R Squared',fontsize=font_size)\n",
    "plt.grid(True)\n",
    "plt.show()"
   ]
  },
  {
   "cell_type": "markdown",
   "metadata": {},
   "source": [
    "# ------------------------------------------------------------"
   ]
  },
  {
   "cell_type": "code",
   "execution_count": 55,
   "metadata": {},
   "outputs": [],
   "source": [
    "from sklearn.linear_model import ElasticNet, Lasso\n",
    "from sklearn.pipeline import make_pipeline\n",
    "from sklearn.preprocessing import RobustScaler\n",
    "import lightgbm as lgb\n",
    "from xgboost import XGBRegressor\n",
    "from sklearn.ensemble import GradientBoostingRegressor, RandomForestRegressor\n",
    "from sklearn.metrics import mean_squared_error\n",
    "from sklearn.model_selection import KFold, cross_val_score, train_test_split\n"
   ]
  },
  {
   "cell_type": "code",
   "execution_count": 56,
   "metadata": {},
   "outputs": [],
   "source": [
    "lasso = make_pipeline(RobustScaler(), Lasso(alpha = 0.0005, random_state=52))\n",
    "ENet = make_pipeline(RobustScaler(), ElasticNet(alpha=0.0005, l1_ratio=.9, random_state=52))\n",
    "lgbm = lgb.LGBMRegressor(random_state = 52)\n",
    "xgb = XGBRegressor(random_state=52)\n",
    "gbr = GradientBoostingRegressor(random_state=52)\n",
    "rf = RandomForestRegressor(random_state=52)"
   ]
  },
  {
   "cell_type": "code",
   "execution_count": 57,
   "metadata": {},
   "outputs": [],
   "source": [
    "y_train = np.log1p(y_train)"
   ]
  },
  {
   "cell_type": "code",
   "execution_count": 58,
   "metadata": {},
   "outputs": [
    {
     "name": "stderr",
     "output_type": "stream",
     "text": [
      "C:\\Users\\USER\\anaconda3\\lib\\site-packages\\sklearn\\utils\\validation.py:73: DataConversionWarning: A column-vector y was passed when a 1d array was expected. Please change the shape of y to (n_samples, ), for example using ravel().\n",
      "  return f(**kwargs)\n",
      "<ipython-input-58-28e0f474ceb3>:7: DataConversionWarning: A column-vector y was passed when a 1d array was expected. Please change the shape of y to (n_samples,), for example using ravel().\n",
      "  model.fit(X_train, y_train)\n"
     ]
    }
   ],
   "source": [
    "lb = ['LGBMRegressor','XGBRegressor', 'GradientBoostingRegressor', \n",
    "      'RandomForestRegressor', 'LassoRegressor', 'ElasticNetRegressor']\n",
    "all_md = [lgbm,xgb, gbr, rf, lasso, ENet]\n",
    "\n",
    "all_rmse = []\n",
    "for model, label in zip(all_md, lb):\n",
    "    model.fit(X_train, y_train)\n",
    "    pred = np.expm1([0 if x<0 else x for x in model.predict(X_train)])\n",
    "    all_rmse.append({f'{label}' : mean_squared_error(y_train, pred, squared=False)})"
   ]
  },
  {
   "cell_type": "code",
   "execution_count": 59,
   "metadata": {},
   "outputs": [
    {
     "data": {
      "text/plain": [
       "[{'LGBMRegressor': 1432293.9485285124},\n",
       " {'XGBRegressor': 1944719.8341817313},\n",
       " {'GradientBoostingRegressor': 1181537.796640196},\n",
       " {'RandomForestRegressor': 1365785.8136052026},\n",
       " {'LassoRegressor': 1825270.7402591417},\n",
       " {'ElasticNetRegressor': 1825771.7092649455}]"
      ]
     },
     "execution_count": 59,
     "metadata": {},
     "output_type": "execute_result"
    }
   ],
   "source": [
    "all_rmse"
   ]
  },
  {
   "cell_type": "markdown",
   "metadata": {},
   "source": [
    "가능한 모든 변수들을 feature에 넣었을 때, \n",
    "[{'LGBMRegressor': 1432293.9485285124},\n",
    " {'XGBRegressor': 1944719.8341817313},\n",
    " {'GradientBoostingRegressor': 1181537.796640196},\n",
    " {'RandomForestRegressor': 1365785.8136052026}]"
   ]
  },
  {
   "cell_type": "markdown",
   "metadata": {},
   "source": [
    "# -----------------------------------------------------------------"
   ]
  },
  {
   "cell_type": "code",
   "execution_count": 60,
   "metadata": {},
   "outputs": [],
   "source": [
    "features = ['dist_rank', 'num_staff', 'time', 'star_score', 'title_len']\n",
    "target = ['box_off_num']\n",
    "\n",
    "X_train, X_test, y_train = train[features], test[features], train[target]\n",
    "y_train = np.log1p(y_train)"
   ]
  },
  {
   "cell_type": "code",
   "execution_count": 61,
   "metadata": {},
   "outputs": [
    {
     "name": "stderr",
     "output_type": "stream",
     "text": [
      "C:\\Users\\USER\\anaconda3\\lib\\site-packages\\sklearn\\utils\\validation.py:73: DataConversionWarning: A column-vector y was passed when a 1d array was expected. Please change the shape of y to (n_samples, ), for example using ravel().\n",
      "  return f(**kwargs)\n",
      "<ipython-input-61-28e0f474ceb3>:7: DataConversionWarning: A column-vector y was passed when a 1d array was expected. Please change the shape of y to (n_samples,), for example using ravel().\n",
      "  model.fit(X_train, y_train)\n"
     ]
    }
   ],
   "source": [
    "lb = ['LGBMRegressor','XGBRegressor', 'GradientBoostingRegressor', \n",
    "      'RandomForestRegressor', 'LassoRegressor', 'ElasticNetRegressor']\n",
    "all_md = [lgbm,xgb, gbr, rf, lasso, ENet]\n",
    "\n",
    "all_rmse = []\n",
    "for model, label in zip(all_md, lb):\n",
    "    model.fit(X_train, y_train)\n",
    "    pred = np.expm1([0 if x<0 else x for x in model.predict(X_train)])\n",
    "    all_rmse.append({f'{label}' : mean_squared_error(y_train, pred, squared=False)})"
   ]
  },
  {
   "cell_type": "code",
   "execution_count": 62,
   "metadata": {},
   "outputs": [
    {
     "data": {
      "text/plain": [
       "[{'LGBMRegressor': 1394912.4650451858},\n",
       " {'XGBRegressor': 1905654.3732795562},\n",
       " {'GradientBoostingRegressor': 1189042.642471431},\n",
       " {'RandomForestRegressor': 1432121.2045578656},\n",
       " {'LassoRegressor': 1621622.529239472},\n",
       " {'ElasticNetRegressor': 1622342.3008069736}]"
      ]
     },
     "execution_count": 62,
     "metadata": {},
     "output_type": "execute_result"
    }
   ],
   "source": [
    "all_rmse"
   ]
  },
  {
   "cell_type": "markdown",
   "metadata": {},
   "source": [
    "# ------------------------------------------------------------"
   ]
  },
  {
   "cell_type": "code",
   "execution_count": 63,
   "metadata": {},
   "outputs": [],
   "source": [
    "features = ['num_staff', 'staff_per_actor', 'time', 'screening_rank']\n",
    "target = ['box_off_num']\n",
    "\n",
    "X_train, X_test, y_train = train[features], test[features], train[target]\n",
    "y_train = np.log1p(y_train)"
   ]
  },
  {
   "cell_type": "code",
   "execution_count": 64,
   "metadata": {},
   "outputs": [
    {
     "name": "stderr",
     "output_type": "stream",
     "text": [
      "C:\\Users\\USER\\anaconda3\\lib\\site-packages\\sklearn\\utils\\validation.py:73: DataConversionWarning: A column-vector y was passed when a 1d array was expected. Please change the shape of y to (n_samples, ), for example using ravel().\n",
      "  return f(**kwargs)\n",
      "<ipython-input-64-28e0f474ceb3>:7: DataConversionWarning: A column-vector y was passed when a 1d array was expected. Please change the shape of y to (n_samples,), for example using ravel().\n",
      "  model.fit(X_train, y_train)\n"
     ]
    }
   ],
   "source": [
    "lb = ['LGBMRegressor','XGBRegressor', 'GradientBoostingRegressor', \n",
    "      'RandomForestRegressor', 'LassoRegressor', 'ElasticNetRegressor']\n",
    "all_md = [lgbm,xgb, gbr, rf, lasso, ENet]\n",
    "\n",
    "all_rmse = []\n",
    "for model, label in zip(all_md, lb):\n",
    "    model.fit(X_train, y_train)\n",
    "    pred = np.expm1([0 if x<0 else x for x in model.predict(X_train)])\n",
    "    all_rmse.append({f'{label}' : mean_squared_error(y_train, pred, squared=False)})"
   ]
  },
  {
   "cell_type": "code",
   "execution_count": 65,
   "metadata": {},
   "outputs": [
    {
     "data": {
      "text/plain": [
       "[{'LGBMRegressor': 967317.668675115},\n",
       " {'XGBRegressor': 1724542.5574696222},\n",
       " {'GradientBoostingRegressor': 876913.8449198669},\n",
       " {'RandomForestRegressor': 1171618.801931222},\n",
       " {'LassoRegressor': 20762066.912610568},\n",
       " {'ElasticNetRegressor': 20740210.995468624}]"
      ]
     },
     "execution_count": 65,
     "metadata": {},
     "output_type": "execute_result"
    }
   ],
   "source": [
    "all_rmse"
   ]
  },
  {
   "cell_type": "code",
   "execution_count": 70,
   "metadata": {
    "scrolled": false
   },
   "outputs": [
    {
     "data": {
      "image/png": "[encoded data removed]",
      "text/plain": [
       "<Figure size 720x1080 with 1 Axes>"
      ]
     },
     "metadata": {
      "needs_background": "light"
     },
     "output_type": "display_data"
    }
   ],
   "source": [
    "y_train.hist(bins=50, figsize=(10,15))\n",
    "plt.show()"
   ]
  },
  {
   "cell_type": "code",
   "execution_count": 66,
   "metadata": {},
   "outputs": [
    {
     "data": {
      "text/plain": [
       "243"
      ]
     },
     "execution_count": 66,
     "metadata": {},
     "output_type": "execute_result"
    }
   ],
   "source": [
    "#블랜딩\n",
    "rf_pred = np.expm1([0 if x <0 else x for x in rf.predict(X_test)])\n",
    "len(rf_pred)"
   ]
  },
  {
   "cell_type": "code",
   "execution_count": 67,
   "metadata": {},
   "outputs": [],
   "source": [
    "gbr_pred = np.expm1([0 if x <0 else x for x in gbr.predict(X_test)])\n",
    "lgbm_pred = np.expm1([0 if x <0 else x for x in lgbm.predict(X_test)])"
   ]
  },
  {
   "cell_type": "code",
   "execution_count": 68,
   "metadata": {},
   "outputs": [
    {
     "ename": "SyntaxError",
     "evalue": "unexpected EOF while parsing (<ipython-input-68-1c657d42ba3d>, line 3)",
     "output_type": "error",
     "traceback": [
      "\u001b[1;36m  File \u001b[1;32m\"<ipython-input-68-1c657d42ba3d>\"\u001b[1;36m, line \u001b[1;32m3\u001b[0m\n\u001b[1;33m    blending.sort_values(by='box_off_num',\u001b[0m\n\u001b[1;37m                                          ^\u001b[0m\n\u001b[1;31mSyntaxError\u001b[0m\u001b[1;31m:\u001b[0m unexpected EOF while parsing\n"
     ]
    }
   ],
   "source": [
    "blending = submission.copy()\n",
    "blending['box_off_num'] = (lgbm_pred+rf_pred+gbr_pred) / 3\n",
    "blending.sort_values(by='box_off_num',"
   ]
  },
  {
   "cell_type": "code",
   "execution_count": null,
   "metadata": {},
   "outputs": [],
   "source": [
    "blending.to_csv('blending2.csv', index=False, encoding='utf-8-sig')"
   ]
  },
  {
   "cell_type": "code",
   "execution_count": null,
   "metadata": {},
   "outputs": [],
   "source": []
  }
 ],
 "metadata": {
  "kernelspec": {
   "display_name": "Python 3",
   "language": "python",
   "name": "python3"
  },
  "language_info": {
   "codemirror_mode": {
    "name": "ipython",
    "version": 3
   },
   "file_extension": ".py",
   "mimetype": "text/x-python",
   "name": "python",
   "nbconvert_exporter": "python",
   "pygments_lexer": "ipython3",
   "version": "3.8.3"
  }
 },
 "nbformat": 4,
 "nbformat_minor": 4
}
